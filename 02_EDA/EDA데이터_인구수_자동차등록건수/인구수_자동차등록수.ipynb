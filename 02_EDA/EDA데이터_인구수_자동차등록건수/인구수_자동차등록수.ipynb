{
 "cells": [
  {
   "cell_type": "code",
   "execution_count": 1,
   "metadata": {},
   "outputs": [],
   "source": [
    "import pandas as pd\n",
    "import numpy as np\n",
    "\n",
    "import matplotlib.pyplot as plt\n",
    "%matplotlib inline\n",
    "\n",
    "import seaborn as sns\n",
    "\n",
    "import warnings\n",
    "warnings.filterwarnings('ignore')\n",
    "\n",
    "plt.rcParams['font.family'] = 'Malgun Gothic'"
   ]
  },
  {
   "cell_type": "markdown",
   "metadata": {},
   "source": [
    "### 서울시 데이터 EDA화의 목적\n",
    "- 개요: 처음에는 전국 데이터를 수집하여 EDA화 하여 사고율 부분을 (사고건수)/(운전면허소지자)으로 표현하였으나, 대한민국의 주요 특징인 장롱면허 인구가 다수 존재할 가능성이 있기에, 이를 정확히 수치화 하려 하였으나 전국 연령별 자동차등록 통계가 존재하지 않아 서울시 데이터를 사용하여 사고율 부분을 (사고건수)/(자동차등록수)로 표현하기로 함. "
   ]
  },
  {
   "cell_type": "code",
   "execution_count": 3,
   "metadata": {},
   "outputs": [
    {
     "data": {
      "text/html": [
       "<div>\n",
       "<style scoped>\n",
       "    .dataframe tbody tr th:only-of-type {\n",
       "        vertical-align: middle;\n",
       "    }\n",
       "\n",
       "    .dataframe tbody tr th {\n",
       "        vertical-align: top;\n",
       "    }\n",
       "\n",
       "    .dataframe thead th {\n",
       "        text-align: right;\n",
       "    }\n",
       "</style>\n",
       "<table border=\"1\" class=\"dataframe\">\n",
       "  <thead>\n",
       "    <tr style=\"text-align: right;\">\n",
       "      <th></th>\n",
       "      <th>age</th>\n",
       "      <th>pop</th>\n",
       "      <th>license</th>\n",
       "      <th>car</th>\n",
       "    </tr>\n",
       "  </thead>\n",
       "  <tbody>\n",
       "    <tr>\n",
       "      <th>0</th>\n",
       "      <td>0~20</td>\n",
       "      <td>416854</td>\n",
       "      <td>35984</td>\n",
       "      <td>2058</td>\n",
       "    </tr>\n",
       "    <tr>\n",
       "      <th>1</th>\n",
       "      <td>20~29</td>\n",
       "      <td>1524869</td>\n",
       "      <td>1046051</td>\n",
       "      <td>63276</td>\n",
       "    </tr>\n",
       "    <tr>\n",
       "      <th>2</th>\n",
       "      <td>30~39</td>\n",
       "      <td>1523209</td>\n",
       "      <td>1480919</td>\n",
       "      <td>449470</td>\n",
       "    </tr>\n",
       "    <tr>\n",
       "      <th>3</th>\n",
       "      <td>40~49</td>\n",
       "      <td>1564547</td>\n",
       "      <td>1775148</td>\n",
       "      <td>701029</td>\n",
       "    </tr>\n",
       "    <tr>\n",
       "      <th>4</th>\n",
       "      <td>50~59</td>\n",
       "      <td>1574076</td>\n",
       "      <td>1766102</td>\n",
       "      <td>725384</td>\n",
       "    </tr>\n",
       "    <tr>\n",
       "      <th>5</th>\n",
       "      <td>60~</td>\n",
       "      <td>2295236</td>\n",
       "      <td>1760338</td>\n",
       "      <td>755466</td>\n",
       "    </tr>\n",
       "  </tbody>\n",
       "</table>\n",
       "</div>"
      ],
      "text/plain": [
       "     age      pop  license     car\n",
       "0   0~20   416854    35984    2058\n",
       "1  20~29  1524869  1046051   63276\n",
       "2  30~39  1523209  1480919  449470\n",
       "3  40~49  1564547  1775148  701029\n",
       "4  50~59  1574076  1766102  725384\n",
       "5    60~  2295236  1760338  755466"
      ]
     },
     "execution_count": 3,
     "metadata": {},
     "output_type": "execute_result"
    }
   ],
   "source": [
    "pop2020_seoul = pd.read_csv('C:/Users/alscj/python/Data Science/project/data/pop2020_seoul.csv',\n",
    "                              encoding='cp949')\n",
    "pop2020_seoul"
   ]
  },
  {
   "cell_type": "code",
   "execution_count": 4,
   "metadata": {},
   "outputs": [
    {
     "data": {
      "text/html": [
       "<div>\n",
       "<style scoped>\n",
       "    .dataframe tbody tr th:only-of-type {\n",
       "        vertical-align: middle;\n",
       "    }\n",
       "\n",
       "    .dataframe tbody tr th {\n",
       "        vertical-align: top;\n",
       "    }\n",
       "\n",
       "    .dataframe thead th {\n",
       "        text-align: right;\n",
       "    }\n",
       "</style>\n",
       "<table border=\"1\" class=\"dataframe\">\n",
       "  <thead>\n",
       "    <tr style=\"text-align: right;\">\n",
       "      <th></th>\n",
       "      <th>age</th>\n",
       "      <th>pop</th>\n",
       "      <th>license</th>\n",
       "      <th>car</th>\n",
       "      <th>pop2</th>\n",
       "      <th>license2</th>\n",
       "      <th>car2</th>\n",
       "    </tr>\n",
       "  </thead>\n",
       "  <tbody>\n",
       "    <tr>\n",
       "      <th>0</th>\n",
       "      <td>0~20</td>\n",
       "      <td>416854</td>\n",
       "      <td>35984</td>\n",
       "      <td>2058</td>\n",
       "      <td>416.854</td>\n",
       "      <td>35.984</td>\n",
       "      <td>2.058</td>\n",
       "    </tr>\n",
       "    <tr>\n",
       "      <th>1</th>\n",
       "      <td>20~29</td>\n",
       "      <td>1524869</td>\n",
       "      <td>1046051</td>\n",
       "      <td>63276</td>\n",
       "      <td>1524.869</td>\n",
       "      <td>1046.051</td>\n",
       "      <td>63.276</td>\n",
       "    </tr>\n",
       "    <tr>\n",
       "      <th>2</th>\n",
       "      <td>30~39</td>\n",
       "      <td>1523209</td>\n",
       "      <td>1480919</td>\n",
       "      <td>449470</td>\n",
       "      <td>1523.209</td>\n",
       "      <td>1480.919</td>\n",
       "      <td>449.470</td>\n",
       "    </tr>\n",
       "    <tr>\n",
       "      <th>3</th>\n",
       "      <td>40~49</td>\n",
       "      <td>1564547</td>\n",
       "      <td>1775148</td>\n",
       "      <td>701029</td>\n",
       "      <td>1564.547</td>\n",
       "      <td>1775.148</td>\n",
       "      <td>701.029</td>\n",
       "    </tr>\n",
       "    <tr>\n",
       "      <th>4</th>\n",
       "      <td>50~59</td>\n",
       "      <td>1574076</td>\n",
       "      <td>1766102</td>\n",
       "      <td>725384</td>\n",
       "      <td>1574.076</td>\n",
       "      <td>1766.102</td>\n",
       "      <td>725.384</td>\n",
       "    </tr>\n",
       "    <tr>\n",
       "      <th>5</th>\n",
       "      <td>60~</td>\n",
       "      <td>2295236</td>\n",
       "      <td>1760338</td>\n",
       "      <td>755466</td>\n",
       "      <td>2295.236</td>\n",
       "      <td>1760.338</td>\n",
       "      <td>755.466</td>\n",
       "    </tr>\n",
       "  </tbody>\n",
       "</table>\n",
       "</div>"
      ],
      "text/plain": [
       "     age      pop  license     car      pop2  license2     car2\n",
       "0   0~20   416854    35984    2058   416.854    35.984    2.058\n",
       "1  20~29  1524869  1046051   63276  1524.869  1046.051   63.276\n",
       "2  30~39  1523209  1480919  449470  1523.209  1480.919  449.470\n",
       "3  40~49  1564547  1775148  701029  1564.547  1775.148  701.029\n",
       "4  50~59  1574076  1766102  725384  1574.076  1766.102  725.384\n",
       "5    60~  2295236  1760338  755466  2295.236  1760.338  755.466"
      ]
     },
     "execution_count": 4,
     "metadata": {},
     "output_type": "execute_result"
    }
   ],
   "source": [
    "# 단위를 축소\n",
    "\n",
    "pop2020_seoul['pop2'] = pop2020_seoul['pop']/1000\n",
    "pop2020_seoul['license2'] = pop2020_seoul['license']/1000\n",
    "pop2020_seoul['car2'] = pop2020_seoul['car']/1000\n",
    "pop2020_seoul"
   ]
  },
  {
   "cell_type": "code",
   "execution_count": 5,
   "metadata": {},
   "outputs": [
    {
     "data": {
      "text/html": [
       "<div>\n",
       "<style scoped>\n",
       "    .dataframe tbody tr th:only-of-type {\n",
       "        vertical-align: middle;\n",
       "    }\n",
       "\n",
       "    .dataframe tbody tr th {\n",
       "        vertical-align: top;\n",
       "    }\n",
       "\n",
       "    .dataframe thead th {\n",
       "        text-align: right;\n",
       "    }\n",
       "</style>\n",
       "<table border=\"1\" class=\"dataframe\">\n",
       "  <thead>\n",
       "    <tr style=\"text-align: right;\">\n",
       "      <th></th>\n",
       "      <th>age</th>\n",
       "      <th>pop</th>\n",
       "      <th>license</th>\n",
       "      <th>car</th>\n",
       "      <th>pop2</th>\n",
       "      <th>license2</th>\n",
       "      <th>car2</th>\n",
       "      <th>운전면허소지율</th>\n",
       "    </tr>\n",
       "  </thead>\n",
       "  <tbody>\n",
       "    <tr>\n",
       "      <th>0</th>\n",
       "      <td>0~20</td>\n",
       "      <td>416854</td>\n",
       "      <td>35984</td>\n",
       "      <td>2058</td>\n",
       "      <td>416.854</td>\n",
       "      <td>35.984</td>\n",
       "      <td>2.058</td>\n",
       "      <td>5.719209</td>\n",
       "    </tr>\n",
       "    <tr>\n",
       "      <th>1</th>\n",
       "      <td>20~29</td>\n",
       "      <td>1524869</td>\n",
       "      <td>1046051</td>\n",
       "      <td>63276</td>\n",
       "      <td>1524.869</td>\n",
       "      <td>1046.051</td>\n",
       "      <td>63.276</td>\n",
       "      <td>6.049036</td>\n",
       "    </tr>\n",
       "    <tr>\n",
       "      <th>2</th>\n",
       "      <td>30~39</td>\n",
       "      <td>1523209</td>\n",
       "      <td>1480919</td>\n",
       "      <td>449470</td>\n",
       "      <td>1523.209</td>\n",
       "      <td>1480.919</td>\n",
       "      <td>449.470</td>\n",
       "      <td>30.350748</td>\n",
       "    </tr>\n",
       "    <tr>\n",
       "      <th>3</th>\n",
       "      <td>40~49</td>\n",
       "      <td>1564547</td>\n",
       "      <td>1775148</td>\n",
       "      <td>701029</td>\n",
       "      <td>1564.547</td>\n",
       "      <td>1775.148</td>\n",
       "      <td>701.029</td>\n",
       "      <td>39.491299</td>\n",
       "    </tr>\n",
       "    <tr>\n",
       "      <th>4</th>\n",
       "      <td>50~59</td>\n",
       "      <td>1574076</td>\n",
       "      <td>1766102</td>\n",
       "      <td>725384</td>\n",
       "      <td>1574.076</td>\n",
       "      <td>1766.102</td>\n",
       "      <td>725.384</td>\n",
       "      <td>41.072599</td>\n",
       "    </tr>\n",
       "    <tr>\n",
       "      <th>5</th>\n",
       "      <td>60~</td>\n",
       "      <td>2295236</td>\n",
       "      <td>1760338</td>\n",
       "      <td>755466</td>\n",
       "      <td>2295.236</td>\n",
       "      <td>1760.338</td>\n",
       "      <td>755.466</td>\n",
       "      <td>42.915963</td>\n",
       "    </tr>\n",
       "  </tbody>\n",
       "</table>\n",
       "</div>"
      ],
      "text/plain": [
       "     age      pop  license     car      pop2  license2     car2    운전면허소지율\n",
       "0   0~20   416854    35984    2058   416.854    35.984    2.058   5.719209\n",
       "1  20~29  1524869  1046051   63276  1524.869  1046.051   63.276   6.049036\n",
       "2  30~39  1523209  1480919  449470  1523.209  1480.919  449.470  30.350748\n",
       "3  40~49  1564547  1775148  701029  1564.547  1775.148  701.029  39.491299\n",
       "4  50~59  1574076  1766102  725384  1574.076  1766.102  725.384  41.072599\n",
       "5    60~  2295236  1760338  755466  2295.236  1760.338  755.466  42.915963"
      ]
     },
     "execution_count": 5,
     "metadata": {},
     "output_type": "execute_result"
    }
   ],
   "source": [
    "# 운전면허 소지율 추가\n",
    "pop2020_seoul['운전면허소지율'] = pop2020_seoul['car']/pop2020_seoul['license']*100\n",
    "pop2020_seoul"
   ]
  },
  {
   "cell_type": "code",
   "execution_count": 6,
   "metadata": {},
   "outputs": [
    {
     "data": {
      "text/plain": [
       "<Figure size 1080x720 with 0 Axes>"
      ]
     },
     "metadata": {},
     "output_type": "display_data"
    },
    {
     "data": {
      "image/png": "[encoded data removed]",
      "text/plain": [
       "<Figure size 432x288 with 1 Axes>"
      ]
     },
     "metadata": {
      "needs_background": "light"
     },
     "output_type": "display_data"
    }
   ],
   "source": [
    "# 2020년 서울시 연령대별 차량등록 비율 그래프화\n",
    "\n",
    "label = ['10대', '20대', '30대', '40대', '50대', '60세 이상']\n",
    "index = np.arange(len(label))\n",
    "\n",
    "plt.figure(figsize=(15, 10))\n",
    "pop2020_seoul.plot(kind='bar', y=['car2', 'license2'], label=('차량등록자','운전면허소지자'), \n",
    "             stacked=True, color=['pink', 'lightskyblue'])\n",
    "plt.title('2020년 서울시 연령대별 차량등록 비율')\n",
    "plt.xlabel('연령대')\n",
    "plt.ylabel('인구 (천명)')\n",
    "plt.xticks(index, label, rotation=0)\n",
    "plt.show()"
   ]
  },
  {
   "cell_type": "code",
   "execution_count": 7,
   "metadata": {},
   "outputs": [
    {
     "name": "stdout",
     "output_type": "stream",
     "text": [
      "10대 차량등록율:  5.72 %\n",
      "20대 차량등록율:  6.05 %\n",
      "30대 차량등록율:  30.35 %\n",
      "40대 차량등록율:  39.49 %\n",
      "50대 차량등록율:  41.07 %\n",
      "60세 차량등록율:  42.92 %\n"
     ]
    }
   ],
   "source": [
    "print('10대 차량등록율: ', round(pop2020_seoul['운전면허소지율'][0], 2),'%')\n",
    "print('20대 차량등록율: ', round(pop2020_seoul['운전면허소지율'][1], 2),'%')\n",
    "print('30대 차량등록율: ', round(pop2020_seoul['운전면허소지율'][2], 2),'%')\n",
    "print('40대 차량등록율: ', round(pop2020_seoul['운전면허소지율'][3], 2),'%')\n",
    "print('50대 차량등록율: ', round(pop2020_seoul['운전면허소지율'][4], 2),'%')\n",
    "print('60세 차량등록율: ', round(pop2020_seoul['운전면허소지율'][5], 2),'%')"
   ]
  },
  {
   "cell_type": "markdown",
   "metadata": {},
   "source": [
    "### 결론\n",
    "- 위의 그래프와 같이, 연령대가 높을수록 자동차 소유 비율이 높았습니다. 학생이거나 사회초년생 비율이 높은 20대의 자동차 소유 비율이 굉장히 낮았습니다."
   ]
  },
  {
   "cell_type": "code",
   "execution_count": null,
   "metadata": {},
   "outputs": [],
   "source": []
  }
 ],
 "metadata": {
  "kernelspec": {
   "display_name": "Python 3",
   "language": "python",
   "name": "python3"
  },
  "language_info": {
   "codemirror_mode": {
    "name": "ipython",
    "version": 3
   },
   "file_extension": ".py",
   "mimetype": "text/x-python",
   "name": "python",
   "nbconvert_exporter": "python",
   "pygments_lexer": "ipython3",
   "version": "3.8.5"
  }
 },
 "nbformat": 4,
 "nbformat_minor": 4
}
