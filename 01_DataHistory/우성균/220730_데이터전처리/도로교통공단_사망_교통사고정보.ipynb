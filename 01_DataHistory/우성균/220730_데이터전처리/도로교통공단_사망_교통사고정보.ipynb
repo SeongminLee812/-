{
 "cells": [
  {
   "cell_type": "code",
   "execution_count": 67,
   "outputs": [],
   "source": [
    "#데이터 핸들링 라이브러리\n",
    "import numpy as np\n",
    "import pandas as pd"
   ],
   "metadata": {
    "collapsed": false,
    "pycharm": {
     "name": "#%%\n"
    }
   }
  },
  {
   "cell_type": "code",
   "execution_count": 72,
   "outputs": [
    {
     "name": "stdout",
     "output_type": "stream",
     "text": [
      "<class 'pandas.core.frame.DataFrame'>\n",
      "RangeIndex: 2816 entries, 0 to 2815\n",
      "Data columns (total 23 columns):\n",
      " #   Column       Non-Null Count  Dtype  \n",
      "---  ------       --------------  -----  \n",
      " 0   발생년          2816 non-null   int64  \n",
      " 1   발생년월일시       2816 non-null   object \n",
      " 2   주야           2816 non-null   object \n",
      " 3   요일           2816 non-null   object \n",
      " 4   사망자수         2816 non-null   int64  \n",
      " 5   부상자수         2816 non-null   int64  \n",
      " 6   중상자수         2816 non-null   int64  \n",
      " 7   경상자수         2816 non-null   int64  \n",
      " 8   부상신고자수       2816 non-null   int64  \n",
      " 9   발생지시도        2816 non-null   object \n",
      " 10  발생지시군구       2816 non-null   object \n",
      " 11  사고유형_대분류     2816 non-null   object \n",
      " 12  사고유형_중분류     2816 non-null   object \n",
      " 13  사고유형         2816 non-null   object \n",
      " 14  가해자법규위반      2816 non-null   object \n",
      " 15  도로형태_대분류     2816 non-null   object \n",
      " 16  도로형태         2816 non-null   object \n",
      " 17  가해자_당사자종별    2816 non-null   object \n",
      " 18  피해자_당사자종별    2816 non-null   object \n",
      " 19  발생위치X(UTMK)  2816 non-null   float64\n",
      " 20  발생위치Y(UTMK)  2816 non-null   float64\n",
      " 21  경도           2816 non-null   float64\n",
      " 22  위도           2816 non-null   float64\n",
      "dtypes: float64(4), int64(6), object(13)\n",
      "memory usage: 506.1+ KB\n",
      "None\n"
     ]
    },
    {
     "data": {
      "text/plain": "              count          mean            std           min           25%  \\\n발생년          2816.0  2.021000e+03       0.000000  2.021000e+03  2.021000e+03   \n사망자수         2816.0  1.035511e+00       0.255976  1.000000e+00  1.000000e+00   \n부상자수         2816.0  4.705256e-01       1.727384  0.000000e+00  0.000000e+00   \n중상자수         2816.0  1.935369e-01       0.708618  0.000000e+00  0.000000e+00   \n경상자수         2816.0  2.585227e-01       1.186334  0.000000e+00  0.000000e+00   \n부상신고자수       2816.0  1.846591e-02       0.169672  0.000000e+00  0.000000e+00   \n발생위치X(UTMK)  2816.0  1.006206e+06   78077.019729  7.530210e+05  9.447632e+05   \n발생위치Y(UTMK)  2816.0  1.820282e+06  116932.854770  1.470724e+06  1.723195e+06   \n경도           2816.0  1.275663e+02       0.866696  1.246898e+02  1.268816e+02   \n위도           2816.0  3.637675e+01       1.055270  3.322151e+01  3.549322e+01   \n\n                      50%           75%           max  \n발생년          2.021000e+03  2.021000e+03  2.021000e+03  \n사망자수         1.000000e+00  1.000000e+00  7.000000e+00  \n부상자수         0.000000e+00  0.000000e+00  5.900000e+01  \n중상자수         0.000000e+00  0.000000e+00  1.900000e+01  \n경상자수         0.000000e+00  0.000000e+00  4.000000e+01  \n부상신고자수       0.000000e+00  0.000000e+00  4.000000e+00  \n발생위치X(UTMK)  9.772510e+05  1.072172e+06  1.296157e+06  \n발생위치Y(UTMK)  1.827476e+06  1.932889e+06  2.046108e+06  \n경도           1.272435e+02  1.283005e+02  1.308485e+02  \n위도           3.644253e+01  3.739352e+01  3.841156e+01  ",
      "text/html": "<div>\n<style scoped>\n    .dataframe tbody tr th:only-of-type {\n        vertical-align: middle;\n    }\n\n    .dataframe tbody tr th {\n        vertical-align: top;\n    }\n\n    .dataframe thead th {\n        text-align: right;\n    }\n</style>\n<table border=\"1\" class=\"dataframe\">\n  <thead>\n    <tr style=\"text-align: right;\">\n      <th></th>\n      <th>count</th>\n      <th>mean</th>\n      <th>std</th>\n      <th>min</th>\n      <th>25%</th>\n      <th>50%</th>\n      <th>75%</th>\n      <th>max</th>\n    </tr>\n  </thead>\n  <tbody>\n    <tr>\n      <th>발생년</th>\n      <td>2816.0</td>\n      <td>2.021000e+03</td>\n      <td>0.000000</td>\n      <td>2.021000e+03</td>\n      <td>2.021000e+03</td>\n      <td>2.021000e+03</td>\n      <td>2.021000e+03</td>\n      <td>2.021000e+03</td>\n    </tr>\n    <tr>\n      <th>사망자수</th>\n      <td>2816.0</td>\n      <td>1.035511e+00</td>\n      <td>0.255976</td>\n      <td>1.000000e+00</td>\n      <td>1.000000e+00</td>\n      <td>1.000000e+00</td>\n      <td>1.000000e+00</td>\n      <td>7.000000e+00</td>\n    </tr>\n    <tr>\n      <th>부상자수</th>\n      <td>2816.0</td>\n      <td>4.705256e-01</td>\n      <td>1.727384</td>\n      <td>0.000000e+00</td>\n      <td>0.000000e+00</td>\n      <td>0.000000e+00</td>\n      <td>0.000000e+00</td>\n      <td>5.900000e+01</td>\n    </tr>\n    <tr>\n      <th>중상자수</th>\n      <td>2816.0</td>\n      <td>1.935369e-01</td>\n      <td>0.708618</td>\n      <td>0.000000e+00</td>\n      <td>0.000000e+00</td>\n      <td>0.000000e+00</td>\n      <td>0.000000e+00</td>\n      <td>1.900000e+01</td>\n    </tr>\n    <tr>\n      <th>경상자수</th>\n      <td>2816.0</td>\n      <td>2.585227e-01</td>\n      <td>1.186334</td>\n      <td>0.000000e+00</td>\n      <td>0.000000e+00</td>\n      <td>0.000000e+00</td>\n      <td>0.000000e+00</td>\n      <td>4.000000e+01</td>\n    </tr>\n    <tr>\n      <th>부상신고자수</th>\n      <td>2816.0</td>\n      <td>1.846591e-02</td>\n      <td>0.169672</td>\n      <td>0.000000e+00</td>\n      <td>0.000000e+00</td>\n      <td>0.000000e+00</td>\n      <td>0.000000e+00</td>\n      <td>4.000000e+00</td>\n    </tr>\n    <tr>\n      <th>발생위치X(UTMK)</th>\n      <td>2816.0</td>\n      <td>1.006206e+06</td>\n      <td>78077.019729</td>\n      <td>7.530210e+05</td>\n      <td>9.447632e+05</td>\n      <td>9.772510e+05</td>\n      <td>1.072172e+06</td>\n      <td>1.296157e+06</td>\n    </tr>\n    <tr>\n      <th>발생위치Y(UTMK)</th>\n      <td>2816.0</td>\n      <td>1.820282e+06</td>\n      <td>116932.854770</td>\n      <td>1.470724e+06</td>\n      <td>1.723195e+06</td>\n      <td>1.827476e+06</td>\n      <td>1.932889e+06</td>\n      <td>2.046108e+06</td>\n    </tr>\n    <tr>\n      <th>경도</th>\n      <td>2816.0</td>\n      <td>1.275663e+02</td>\n      <td>0.866696</td>\n      <td>1.246898e+02</td>\n      <td>1.268816e+02</td>\n      <td>1.272435e+02</td>\n      <td>1.283005e+02</td>\n      <td>1.308485e+02</td>\n    </tr>\n    <tr>\n      <th>위도</th>\n      <td>2816.0</td>\n      <td>3.637675e+01</td>\n      <td>1.055270</td>\n      <td>3.322151e+01</td>\n      <td>3.549322e+01</td>\n      <td>3.644253e+01</td>\n      <td>3.739352e+01</td>\n      <td>3.841156e+01</td>\n    </tr>\n  </tbody>\n</table>\n</div>"
     },
     "execution_count": 72,
     "metadata": {},
     "output_type": "execute_result"
    }
   ],
   "source": [
    "death_df=pd.read_csv('./도로교통공단_사망_교통사고정보.csv',encoding='euc-kr')\n",
    "print(death_df.info())\n",
    "death_df.describe().T"
   ],
   "metadata": {
    "collapsed": false,
    "pycharm": {
     "name": "#%%\n"
    }
   }
  },
  {
   "cell_type": "markdown",
   "source": [
    "### 필요없는 열/ 중복된 데이터 열 제거\n",
    "- 관심있는 데이터는 사망자수이므로 중상자수,부상자수,경상자수,부상신고자수 피처를 제거한다\n",
    "- 발생위치X(UTMK)와 발생위치Y(UTMK)는 경도,위도와 중복되는 정보이므로 삭제한다"
   ],
   "metadata": {
    "collapsed": false,
    "pycharm": {
     "name": "#%% md\n"
    }
   }
  },
  {
   "cell_type": "code",
   "execution_count": 73,
   "outputs": [
    {
     "data": {
      "text/plain": "                발생년월일시 주야 요일  사망자수 발생지시도 발생지시군구 사고유형_대분류 사고유형_중분류   사고유형  \\\n0     2021-01-01 03:00  야  금     1    경북    군위군      차대차       추돌     추돌   \n1     2021-01-01 09:00  주  금     1    충남    서산시     차량단독    공작물충돌  공작물충돌   \n2     2021-01-01 15:00  주  금     1    강원    강릉시      차대차     측면충돌   측면충돌   \n3     2021-01-01 19:00  야  금     1    전남    진도군     차대사람      횡단중    횡단중   \n4     2021-01-01 21:00  야  금     1    경기    수원시     차대사람       기타     기타   \n...                ... .. ..   ...   ...    ...      ...      ...    ...   \n2811  2021-12-31 16:00  주  금     1    경북    경산시      차대차     정면충돌   정면충돌   \n2812  2021-12-31 17:00  주  금     1    제주    제주시      차대차       추돌     추돌   \n2813  2021-12-31 18:00  야  금     1    강원    춘천시     차대사람      횡단중    횡단중   \n2814  2021-12-31 19:00  야  금     1    경북    상주시     차대사람      횡단중    횡단중   \n2815  2021-12-31 21:00  야  금     1    강원    양구군     차량단독       전복     전복   \n\n          가해자법규위반 도로형태_대분류      도로형태 가해자_당사자종별 피해자_당사자종별          경도  \\\n0     안전운전 의무 불이행      교차로     교차로부근       승용차       승용차  128.578152   \n1     안전운전 의무 불이행      단일로     기타단일로       승용차        없음  126.408201   \n2     안전운전 의무 불이행      교차로      교차로내  원동기장치자전거       승용차  128.907484   \n3     안전운전 의무 불이행      단일로     기타단일로       화물차       보행자  126.263573   \n4              기타      단일로     기타단일로       승용차       보행자  126.976011   \n...           ...      ...       ...       ...       ...         ...   \n2811  안전운전 의무 불이행      교차로      교차로내       승용차       이륜차  128.818730   \n2812  안전운전 의무 불이행      단일로     기타단일로       화물차       화물차  126.860248   \n2813  보행자 보호의무 위반      단일로     기타단일로       승용차       보행자  127.762845   \n2814  보행자 보호의무 위반      교차로  교차로횡단보도내       승용차       보행자  128.155943   \n2815       중앙선 침범      단일로     기타단일로       승용차        없음  127.985386   \n\n             위도  \n0     36.132653  \n1     36.616845  \n2     37.761842  \n3     34.513391  \n4     37.236327  \n...         ...  \n2811  35.891434  \n2812  33.517699  \n2813  37.840465  \n2814  36.418521  \n2815  38.097913  \n\n[2816 rows x 16 columns]",
      "text/html": "<div>\n<style scoped>\n    .dataframe tbody tr th:only-of-type {\n        vertical-align: middle;\n    }\n\n    .dataframe tbody tr th {\n        vertical-align: top;\n    }\n\n    .dataframe thead th {\n        text-align: right;\n    }\n</style>\n<table border=\"1\" class=\"dataframe\">\n  <thead>\n    <tr style=\"text-align: right;\">\n      <th></th>\n      <th>발생년월일시</th>\n      <th>주야</th>\n      <th>요일</th>\n      <th>사망자수</th>\n      <th>발생지시도</th>\n      <th>발생지시군구</th>\n      <th>사고유형_대분류</th>\n      <th>사고유형_중분류</th>\n      <th>사고유형</th>\n      <th>가해자법규위반</th>\n      <th>도로형태_대분류</th>\n      <th>도로형태</th>\n      <th>가해자_당사자종별</th>\n      <th>피해자_당사자종별</th>\n      <th>경도</th>\n      <th>위도</th>\n    </tr>\n  </thead>\n  <tbody>\n    <tr>\n      <th>0</th>\n      <td>2021-01-01 03:00</td>\n      <td>야</td>\n      <td>금</td>\n      <td>1</td>\n      <td>경북</td>\n      <td>군위군</td>\n      <td>차대차</td>\n      <td>추돌</td>\n      <td>추돌</td>\n      <td>안전운전 의무 불이행</td>\n      <td>교차로</td>\n      <td>교차로부근</td>\n      <td>승용차</td>\n      <td>승용차</td>\n      <td>128.578152</td>\n      <td>36.132653</td>\n    </tr>\n    <tr>\n      <th>1</th>\n      <td>2021-01-01 09:00</td>\n      <td>주</td>\n      <td>금</td>\n      <td>1</td>\n      <td>충남</td>\n      <td>서산시</td>\n      <td>차량단독</td>\n      <td>공작물충돌</td>\n      <td>공작물충돌</td>\n      <td>안전운전 의무 불이행</td>\n      <td>단일로</td>\n      <td>기타단일로</td>\n      <td>승용차</td>\n      <td>없음</td>\n      <td>126.408201</td>\n      <td>36.616845</td>\n    </tr>\n    <tr>\n      <th>2</th>\n      <td>2021-01-01 15:00</td>\n      <td>주</td>\n      <td>금</td>\n      <td>1</td>\n      <td>강원</td>\n      <td>강릉시</td>\n      <td>차대차</td>\n      <td>측면충돌</td>\n      <td>측면충돌</td>\n      <td>안전운전 의무 불이행</td>\n      <td>교차로</td>\n      <td>교차로내</td>\n      <td>원동기장치자전거</td>\n      <td>승용차</td>\n      <td>128.907484</td>\n      <td>37.761842</td>\n    </tr>\n    <tr>\n      <th>3</th>\n      <td>2021-01-01 19:00</td>\n      <td>야</td>\n      <td>금</td>\n      <td>1</td>\n      <td>전남</td>\n      <td>진도군</td>\n      <td>차대사람</td>\n      <td>횡단중</td>\n      <td>횡단중</td>\n      <td>안전운전 의무 불이행</td>\n      <td>단일로</td>\n      <td>기타단일로</td>\n      <td>화물차</td>\n      <td>보행자</td>\n      <td>126.263573</td>\n      <td>34.513391</td>\n    </tr>\n    <tr>\n      <th>4</th>\n      <td>2021-01-01 21:00</td>\n      <td>야</td>\n      <td>금</td>\n      <td>1</td>\n      <td>경기</td>\n      <td>수원시</td>\n      <td>차대사람</td>\n      <td>기타</td>\n      <td>기타</td>\n      <td>기타</td>\n      <td>단일로</td>\n      <td>기타단일로</td>\n      <td>승용차</td>\n      <td>보행자</td>\n      <td>126.976011</td>\n      <td>37.236327</td>\n    </tr>\n    <tr>\n      <th>...</th>\n      <td>...</td>\n      <td>...</td>\n      <td>...</td>\n      <td>...</td>\n      <td>...</td>\n      <td>...</td>\n      <td>...</td>\n      <td>...</td>\n      <td>...</td>\n      <td>...</td>\n      <td>...</td>\n      <td>...</td>\n      <td>...</td>\n      <td>...</td>\n      <td>...</td>\n      <td>...</td>\n    </tr>\n    <tr>\n      <th>2811</th>\n      <td>2021-12-31 16:00</td>\n      <td>주</td>\n      <td>금</td>\n      <td>1</td>\n      <td>경북</td>\n      <td>경산시</td>\n      <td>차대차</td>\n      <td>정면충돌</td>\n      <td>정면충돌</td>\n      <td>안전운전 의무 불이행</td>\n      <td>교차로</td>\n      <td>교차로내</td>\n      <td>승용차</td>\n      <td>이륜차</td>\n      <td>128.818730</td>\n      <td>35.891434</td>\n    </tr>\n    <tr>\n      <th>2812</th>\n      <td>2021-12-31 17:00</td>\n      <td>주</td>\n      <td>금</td>\n      <td>1</td>\n      <td>제주</td>\n      <td>제주시</td>\n      <td>차대차</td>\n      <td>추돌</td>\n      <td>추돌</td>\n      <td>안전운전 의무 불이행</td>\n      <td>단일로</td>\n      <td>기타단일로</td>\n      <td>화물차</td>\n      <td>화물차</td>\n      <td>126.860248</td>\n      <td>33.517699</td>\n    </tr>\n    <tr>\n      <th>2813</th>\n      <td>2021-12-31 18:00</td>\n      <td>야</td>\n      <td>금</td>\n      <td>1</td>\n      <td>강원</td>\n      <td>춘천시</td>\n      <td>차대사람</td>\n      <td>횡단중</td>\n      <td>횡단중</td>\n      <td>보행자 보호의무 위반</td>\n      <td>단일로</td>\n      <td>기타단일로</td>\n      <td>승용차</td>\n      <td>보행자</td>\n      <td>127.762845</td>\n      <td>37.840465</td>\n    </tr>\n    <tr>\n      <th>2814</th>\n      <td>2021-12-31 19:00</td>\n      <td>야</td>\n      <td>금</td>\n      <td>1</td>\n      <td>경북</td>\n      <td>상주시</td>\n      <td>차대사람</td>\n      <td>횡단중</td>\n      <td>횡단중</td>\n      <td>보행자 보호의무 위반</td>\n      <td>교차로</td>\n      <td>교차로횡단보도내</td>\n      <td>승용차</td>\n      <td>보행자</td>\n      <td>128.155943</td>\n      <td>36.418521</td>\n    </tr>\n    <tr>\n      <th>2815</th>\n      <td>2021-12-31 21:00</td>\n      <td>야</td>\n      <td>금</td>\n      <td>1</td>\n      <td>강원</td>\n      <td>양구군</td>\n      <td>차량단독</td>\n      <td>전복</td>\n      <td>전복</td>\n      <td>중앙선 침범</td>\n      <td>단일로</td>\n      <td>기타단일로</td>\n      <td>승용차</td>\n      <td>없음</td>\n      <td>127.985386</td>\n      <td>38.097913</td>\n    </tr>\n  </tbody>\n</table>\n<p>2816 rows × 16 columns</p>\n</div>"
     },
     "execution_count": 73,
     "metadata": {},
     "output_type": "execute_result"
    }
   ],
   "source": [
    "death_df.drop(['발생년','발생위치X(UTMK)','발생위치Y(UTMK)','부상자수','중상자수','경상자수','부상신고자수'],axis=1,inplace=True)\n",
    "death_df"
   ],
   "metadata": {
    "collapsed": false,
    "pycharm": {
     "name": "#%%\n"
    }
   }
  },
  {
   "cell_type": "markdown",
   "source": [
    "### 2021년도 기준 가장 높은 사망자가 발생한 요일은 목요일이다"
   ],
   "metadata": {
    "collapsed": false,
    "pycharm": {
     "name": "#%% md\n"
    }
   }
  },
  {
   "cell_type": "code",
   "execution_count": 74,
   "outputs": [
    {
     "data": {
      "text/plain": "    사망자수            경도            위도\n요일                                  \n목    464  57296.752907  16336.312471\n월    454  55244.951749  15758.670110\n금    440  54470.685536  15532.640215\n화    417  50363.559085  14385.518538\n수    416  51483.666177  14690.032913\n토    378  46969.224598  13374.521915\n일    347  43397.892607  12359.240082",
      "text/html": "<div>\n<style scoped>\n    .dataframe tbody tr th:only-of-type {\n        vertical-align: middle;\n    }\n\n    .dataframe tbody tr th {\n        vertical-align: top;\n    }\n\n    .dataframe thead th {\n        text-align: right;\n    }\n</style>\n<table border=\"1\" class=\"dataframe\">\n  <thead>\n    <tr style=\"text-align: right;\">\n      <th></th>\n      <th>사망자수</th>\n      <th>경도</th>\n      <th>위도</th>\n    </tr>\n    <tr>\n      <th>요일</th>\n      <th></th>\n      <th></th>\n      <th></th>\n    </tr>\n  </thead>\n  <tbody>\n    <tr>\n      <th>목</th>\n      <td>464</td>\n      <td>57296.752907</td>\n      <td>16336.312471</td>\n    </tr>\n    <tr>\n      <th>월</th>\n      <td>454</td>\n      <td>55244.951749</td>\n      <td>15758.670110</td>\n    </tr>\n    <tr>\n      <th>금</th>\n      <td>440</td>\n      <td>54470.685536</td>\n      <td>15532.640215</td>\n    </tr>\n    <tr>\n      <th>화</th>\n      <td>417</td>\n      <td>50363.559085</td>\n      <td>14385.518538</td>\n    </tr>\n    <tr>\n      <th>수</th>\n      <td>416</td>\n      <td>51483.666177</td>\n      <td>14690.032913</td>\n    </tr>\n    <tr>\n      <th>토</th>\n      <td>378</td>\n      <td>46969.224598</td>\n      <td>13374.521915</td>\n    </tr>\n    <tr>\n      <th>일</th>\n      <td>347</td>\n      <td>43397.892607</td>\n      <td>12359.240082</td>\n    </tr>\n  </tbody>\n</table>\n</div>"
     },
     "execution_count": 74,
     "metadata": {},
     "output_type": "execute_result"
    }
   ],
   "source": [
    "death_df.groupby(by='요일').sum().sort_values(by='사망자수',ascending=False)"
   ],
   "metadata": {
    "collapsed": false,
    "pycharm": {
     "name": "#%%\n"
    }
   }
  },
  {
   "cell_type": "code",
   "execution_count": null,
   "outputs": [],
   "source": [],
   "metadata": {
    "collapsed": false,
    "pycharm": {
     "name": "#%%\n"
    }
   }
  }
 ],
 "metadata": {
  "kernelspec": {
   "display_name": "Python 3",
   "language": "python",
   "name": "python3"
  },
  "language_info": {
   "codemirror_mode": {
    "name": "ipython",
    "version": 2
   },
   "file_extension": ".py",
   "mimetype": "text/x-python",
   "name": "python",
   "nbconvert_exporter": "python",
   "pygments_lexer": "ipython2",
   "version": "2.7.6"
  }
 },
 "nbformat": 4,
 "nbformat_minor": 0
}