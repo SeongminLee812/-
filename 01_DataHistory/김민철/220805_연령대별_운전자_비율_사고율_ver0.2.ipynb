{
 "cells": [
  {
   "cell_type": "code",
   "execution_count": 1,
   "metadata": {},
   "outputs": [],
   "source": [
    "import pandas as pd\n",
    "import numpy as np\n",
    "\n",
    "import matplotlib.pyplot as plt\n",
    "%matplotlib inline\n",
    "\n",
    "import seaborn as sns\n",
    "\n",
    "import warnings\n",
    "warnings.filterwarnings('ignore')"
   ]
  },
  {
   "cell_type": "markdown",
   "metadata": {},
   "source": [
    "## 연령대별 운전면허 소지 비율 2020년"
   ]
  },
  {
   "cell_type": "code",
   "execution_count": 2,
   "metadata": {},
   "outputs": [
    {
     "data": {
      "text/html": [
       "<div>\n",
       "<style scoped>\n",
       "    .dataframe tbody tr th:only-of-type {\n",
       "        vertical-align: middle;\n",
       "    }\n",
       "\n",
       "    .dataframe tbody tr th {\n",
       "        vertical-align: top;\n",
       "    }\n",
       "\n",
       "    .dataframe thead th {\n",
       "        text-align: right;\n",
       "    }\n",
       "</style>\n",
       "<table border=\"1\" class=\"dataframe\">\n",
       "  <thead>\n",
       "    <tr style=\"text-align: right;\">\n",
       "      <th></th>\n",
       "      <th>age</th>\n",
       "      <th>pop</th>\n",
       "      <th>license</th>\n",
       "    </tr>\n",
       "  </thead>\n",
       "  <tbody>\n",
       "    <tr>\n",
       "      <th>0</th>\n",
       "      <td>20~29</td>\n",
       "      <td>6616547</td>\n",
       "      <td>4894403</td>\n",
       "    </tr>\n",
       "    <tr>\n",
       "      <th>1</th>\n",
       "      <td>30~39</td>\n",
       "      <td>6627045</td>\n",
       "      <td>6351304</td>\n",
       "    </tr>\n",
       "    <tr>\n",
       "      <th>2</th>\n",
       "      <td>40~49</td>\n",
       "      <td>7953625</td>\n",
       "      <td>7617679</td>\n",
       "    </tr>\n",
       "    <tr>\n",
       "      <th>3</th>\n",
       "      <td>50~59</td>\n",
       "      <td>8337603</td>\n",
       "      <td>7378841</td>\n",
       "    </tr>\n",
       "    <tr>\n",
       "      <th>4</th>\n",
       "      <td>60~64</td>\n",
       "      <td>3795217</td>\n",
       "      <td>2980465</td>\n",
       "    </tr>\n",
       "    <tr>\n",
       "      <th>5</th>\n",
       "      <td>65~</td>\n",
       "      <td>8205508</td>\n",
       "      <td>3682632</td>\n",
       "    </tr>\n",
       "  </tbody>\n",
       "</table>\n",
       "</div>"
      ],
      "text/plain": [
       "     age      pop  license\n",
       "0  20~29  6616547  4894403\n",
       "1  30~39  6627045  6351304\n",
       "2  40~49  7953625  7617679\n",
       "3  50~59  8337603  7378841\n",
       "4  60~64  3795217  2980465\n",
       "5    65~  8205508  3682632"
      ]
     },
     "execution_count": 2,
     "metadata": {},
     "output_type": "execute_result"
    }
   ],
   "source": [
    "pop2020 = pd.read_excel('C:/Users/alscj/python/Data Science/project/data/pop2020_ver0.2.xlsx')\n",
    "pop2020"
   ]
  },
  {
   "cell_type": "code",
   "execution_count": 3,
   "metadata": {},
   "outputs": [
    {
     "data": {
      "text/html": [
       "<div>\n",
       "<style scoped>\n",
       "    .dataframe tbody tr th:only-of-type {\n",
       "        vertical-align: middle;\n",
       "    }\n",
       "\n",
       "    .dataframe tbody tr th {\n",
       "        vertical-align: top;\n",
       "    }\n",
       "\n",
       "    .dataframe thead th {\n",
       "        text-align: right;\n",
       "    }\n",
       "</style>\n",
       "<table border=\"1\" class=\"dataframe\">\n",
       "  <thead>\n",
       "    <tr style=\"text-align: right;\">\n",
       "      <th></th>\n",
       "      <th>age</th>\n",
       "      <th>pop</th>\n",
       "      <th>license</th>\n",
       "      <th>pop2</th>\n",
       "      <th>license2</th>\n",
       "    </tr>\n",
       "  </thead>\n",
       "  <tbody>\n",
       "    <tr>\n",
       "      <th>0</th>\n",
       "      <td>20~29</td>\n",
       "      <td>6616547</td>\n",
       "      <td>4894403</td>\n",
       "      <td>661.6547</td>\n",
       "      <td>489.4403</td>\n",
       "    </tr>\n",
       "    <tr>\n",
       "      <th>1</th>\n",
       "      <td>30~39</td>\n",
       "      <td>6627045</td>\n",
       "      <td>6351304</td>\n",
       "      <td>662.7045</td>\n",
       "      <td>635.1304</td>\n",
       "    </tr>\n",
       "    <tr>\n",
       "      <th>2</th>\n",
       "      <td>40~49</td>\n",
       "      <td>7953625</td>\n",
       "      <td>7617679</td>\n",
       "      <td>795.3625</td>\n",
       "      <td>761.7679</td>\n",
       "    </tr>\n",
       "    <tr>\n",
       "      <th>3</th>\n",
       "      <td>50~59</td>\n",
       "      <td>8337603</td>\n",
       "      <td>7378841</td>\n",
       "      <td>833.7603</td>\n",
       "      <td>737.8841</td>\n",
       "    </tr>\n",
       "    <tr>\n",
       "      <th>4</th>\n",
       "      <td>60~64</td>\n",
       "      <td>3795217</td>\n",
       "      <td>2980465</td>\n",
       "      <td>379.5217</td>\n",
       "      <td>298.0465</td>\n",
       "    </tr>\n",
       "    <tr>\n",
       "      <th>5</th>\n",
       "      <td>65~</td>\n",
       "      <td>8205508</td>\n",
       "      <td>3682632</td>\n",
       "      <td>820.5508</td>\n",
       "      <td>368.2632</td>\n",
       "    </tr>\n",
       "  </tbody>\n",
       "</table>\n",
       "</div>"
      ],
      "text/plain": [
       "     age      pop  license      pop2  license2\n",
       "0  20~29  6616547  4894403  661.6547  489.4403\n",
       "1  30~39  6627045  6351304  662.7045  635.1304\n",
       "2  40~49  7953625  7617679  795.3625  761.7679\n",
       "3  50~59  8337603  7378841  833.7603  737.8841\n",
       "4  60~64  3795217  2980465  379.5217  298.0465\n",
       "5    65~  8205508  3682632  820.5508  368.2632"
      ]
     },
     "execution_count": 3,
     "metadata": {},
     "output_type": "execute_result"
    }
   ],
   "source": [
    "# 숫자가 너무 커서 10000으로 나눔\n",
    "\n",
    "pop2020['pop2'] = pop2020['pop']/10000\n",
    "pop2020['license2'] = pop2020['license']/10000\n",
    "pop2020"
   ]
  },
  {
   "cell_type": "code",
   "execution_count": 4,
   "metadata": {},
   "outputs": [
    {
     "data": {
      "text/html": [
       "<div>\n",
       "<style scoped>\n",
       "    .dataframe tbody tr th:only-of-type {\n",
       "        vertical-align: middle;\n",
       "    }\n",
       "\n",
       "    .dataframe tbody tr th {\n",
       "        vertical-align: top;\n",
       "    }\n",
       "\n",
       "    .dataframe thead th {\n",
       "        text-align: right;\n",
       "    }\n",
       "</style>\n",
       "<table border=\"1\" class=\"dataframe\">\n",
       "  <thead>\n",
       "    <tr style=\"text-align: right;\">\n",
       "      <th></th>\n",
       "      <th>age</th>\n",
       "      <th>pop</th>\n",
       "      <th>license</th>\n",
       "      <th>pop2</th>\n",
       "      <th>license2</th>\n",
       "      <th>면허소지율</th>\n",
       "    </tr>\n",
       "  </thead>\n",
       "  <tbody>\n",
       "    <tr>\n",
       "      <th>0</th>\n",
       "      <td>20~29</td>\n",
       "      <td>6616547</td>\n",
       "      <td>4894403</td>\n",
       "      <td>661.6547</td>\n",
       "      <td>489.4403</td>\n",
       "      <td>42.519540</td>\n",
       "    </tr>\n",
       "    <tr>\n",
       "      <th>1</th>\n",
       "      <td>30~39</td>\n",
       "      <td>6627045</td>\n",
       "      <td>6351304</td>\n",
       "      <td>662.7045</td>\n",
       "      <td>635.1304</td>\n",
       "      <td>48.937688</td>\n",
       "    </tr>\n",
       "    <tr>\n",
       "      <th>2</th>\n",
       "      <td>40~49</td>\n",
       "      <td>7953625</td>\n",
       "      <td>7617679</td>\n",
       "      <td>795.3625</td>\n",
       "      <td>761.7679</td>\n",
       "      <td>48.921266</td>\n",
       "    </tr>\n",
       "    <tr>\n",
       "      <th>3</th>\n",
       "      <td>50~59</td>\n",
       "      <td>8337603</td>\n",
       "      <td>7378841</td>\n",
       "      <td>833.7603</td>\n",
       "      <td>737.8841</td>\n",
       "      <td>46.949813</td>\n",
       "    </tr>\n",
       "    <tr>\n",
       "      <th>4</th>\n",
       "      <td>60~64</td>\n",
       "      <td>3795217</td>\n",
       "      <td>2980465</td>\n",
       "      <td>379.5217</td>\n",
       "      <td>298.0465</td>\n",
       "      <td>43.987675</td>\n",
       "    </tr>\n",
       "    <tr>\n",
       "      <th>5</th>\n",
       "      <td>65~</td>\n",
       "      <td>8205508</td>\n",
       "      <td>3682632</td>\n",
       "      <td>820.5508</td>\n",
       "      <td>368.2632</td>\n",
       "      <td>30.977361</td>\n",
       "    </tr>\n",
       "  </tbody>\n",
       "</table>\n",
       "</div>"
      ],
      "text/plain": [
       "     age      pop  license      pop2  license2      면허소지율\n",
       "0  20~29  6616547  4894403  661.6547  489.4403  42.519540\n",
       "1  30~39  6627045  6351304  662.7045  635.1304  48.937688\n",
       "2  40~49  7953625  7617679  795.3625  761.7679  48.921266\n",
       "3  50~59  8337603  7378841  833.7603  737.8841  46.949813\n",
       "4  60~64  3795217  2980465  379.5217  298.0465  43.987675\n",
       "5    65~  8205508  3682632  820.5508  368.2632  30.977361"
      ]
     },
     "execution_count": 4,
     "metadata": {},
     "output_type": "execute_result"
    }
   ],
   "source": [
    "# 면허소지율 삽입\n",
    "\n",
    "pop2020['면허소지율'] = pop2020['license']/(pop2020['pop'] + pop2020['license'])*100\n",
    "pop2020"
   ]
  },
  {
   "cell_type": "code",
   "execution_count": 5,
   "metadata": {},
   "outputs": [],
   "source": [
    "plt.rcParams['font.family'] = 'Malgun Gothic'"
   ]
  },
  {
   "cell_type": "code",
   "execution_count": 6,
   "metadata": {},
   "outputs": [
    {
     "data": {
      "text/plain": [
       "<Figure size 2880x864 with 0 Axes>"
      ]
     },
     "metadata": {},
     "output_type": "display_data"
    },
    {
     "data": {
      "image/png": "[encoded data removed]",
      "text/plain": [
       "<Figure size 432x288 with 1 Axes>"
      ]
     },
     "metadata": {
      "needs_background": "light"
     },
     "output_type": "display_data"
    }
   ],
   "source": [
    "label = ['20대', '30대', '40대', '50대', '60~64세', '65세 이상']\n",
    "index = np.arange(len(label))\n",
    "\n",
    "plt.figure(figsize=(40, 12))\n",
    "pop2020.plot(kind='bar', y=['license2', 'pop2'], label=('면허소지자','총 인구'), \n",
    "             stacked=True, color=['pink', 'lightskyblue'])\n",
    "plt.title('2020년 연령대별 운전면허 소지 비율')\n",
    "plt.xlabel('연령대')\n",
    "plt.ylabel('인구 (만명)')\n",
    "plt.xticks(index, label, rotation=0)\n",
    "plt.show()"
   ]
  },
  {
   "cell_type": "code",
   "execution_count": 7,
   "metadata": {},
   "outputs": [
    {
     "name": "stdout",
     "output_type": "stream",
     "text": [
      "20대 면허 소지율:  42.52 %\n",
      "30대 면허 소지율:  48.94 %\n",
      "40대 면허 소지율:  48.92 %\n",
      "50대 면허 소지율:  46.95 %\n",
      "60~64세 면허 소지율:  43.99 %\n",
      "65세 이상 면허 소지율:  30.98 %\n"
     ]
    }
   ],
   "source": [
    "print('20대 면허 소지율: ', round(pop2020['면허소지율'][0], 2),'%')\n",
    "print('30대 면허 소지율: ', round(pop2020['면허소지율'][1], 2),'%')\n",
    "print('40대 면허 소지율: ', round(pop2020['면허소지율'][2], 2),'%')\n",
    "print('50대 면허 소지율: ', round(pop2020['면허소지율'][3], 2),'%')\n",
    "print('60~64세 면허 소지율: ', round(pop2020['면허소지율'][4], 2),'%')\n",
    "print('65세 이상 면허 소지율: ', round(pop2020['면허소지율'][5], 2),'%')"
   ]
  },
  {
   "cell_type": "markdown",
   "metadata": {},
   "source": [
    "## 연령대별 운전면허 소지 비율 2021년"
   ]
  },
  {
   "cell_type": "code",
   "execution_count": 6,
   "metadata": {},
   "outputs": [],
   "source": [
    "pop2021 = pd.read_excel('C:/Users/alscj/python/Data Science/project/data/pop2021_ver0.2.xlsx')"
   ]
  },
  {
   "cell_type": "code",
   "execution_count": 7,
   "metadata": {},
   "outputs": [
    {
     "data": {
      "text/html": [
       "<div>\n",
       "<style scoped>\n",
       "    .dataframe tbody tr th:only-of-type {\n",
       "        vertical-align: middle;\n",
       "    }\n",
       "\n",
       "    .dataframe tbody tr th {\n",
       "        vertical-align: top;\n",
       "    }\n",
       "\n",
       "    .dataframe thead th {\n",
       "        text-align: right;\n",
       "    }\n",
       "</style>\n",
       "<table border=\"1\" class=\"dataframe\">\n",
       "  <thead>\n",
       "    <tr style=\"text-align: right;\">\n",
       "      <th></th>\n",
       "      <th>age</th>\n",
       "      <th>pop</th>\n",
       "      <th>license</th>\n",
       "      <th>pop2</th>\n",
       "      <th>license2</th>\n",
       "    </tr>\n",
       "  </thead>\n",
       "  <tbody>\n",
       "    <tr>\n",
       "      <th>0</th>\n",
       "      <td>20~29</td>\n",
       "      <td>6704990</td>\n",
       "      <td>4917391</td>\n",
       "      <td>670.4990</td>\n",
       "      <td>491.7391</td>\n",
       "    </tr>\n",
       "    <tr>\n",
       "      <th>1</th>\n",
       "      <td>30~39</td>\n",
       "      <td>6753189</td>\n",
       "      <td>6247958</td>\n",
       "      <td>675.3189</td>\n",
       "      <td>624.7958</td>\n",
       "    </tr>\n",
       "    <tr>\n",
       "      <th>2</th>\n",
       "      <td>40~49</td>\n",
       "      <td>8152507</td>\n",
       "      <td>7568416</td>\n",
       "      <td>815.2507</td>\n",
       "      <td>756.8416</td>\n",
       "    </tr>\n",
       "    <tr>\n",
       "      <th>3</th>\n",
       "      <td>50~59</td>\n",
       "      <td>8541582</td>\n",
       "      <td>7503339</td>\n",
       "      <td>854.1582</td>\n",
       "      <td>750.3339</td>\n",
       "    </tr>\n",
       "    <tr>\n",
       "      <th>4</th>\n",
       "      <td>60~64</td>\n",
       "      <td>3997812</td>\n",
       "      <td>3196470</td>\n",
       "      <td>399.7812</td>\n",
       "      <td>319.6470</td>\n",
       "    </tr>\n",
       "    <tr>\n",
       "      <th>5</th>\n",
       "      <td>65~</td>\n",
       "      <td>11460280</td>\n",
       "      <td>4016538</td>\n",
       "      <td>1146.0280</td>\n",
       "      <td>401.6538</td>\n",
       "    </tr>\n",
       "  </tbody>\n",
       "</table>\n",
       "</div>"
      ],
      "text/plain": [
       "     age       pop  license       pop2  license2\n",
       "0  20~29   6704990  4917391   670.4990  491.7391\n",
       "1  30~39   6753189  6247958   675.3189  624.7958\n",
       "2  40~49   8152507  7568416   815.2507  756.8416\n",
       "3  50~59   8541582  7503339   854.1582  750.3339\n",
       "4  60~64   3997812  3196470   399.7812  319.6470\n",
       "5    65~  11460280  4016538  1146.0280  401.6538"
      ]
     },
     "execution_count": 7,
     "metadata": {},
     "output_type": "execute_result"
    }
   ],
   "source": [
    "pop2021['pop2'] = pop2021['pop']/10000\n",
    "pop2021['license2'] = pop2021['license']/10000\n",
    "\n",
    "pop2021"
   ]
  },
  {
   "cell_type": "code",
   "execution_count": 8,
   "metadata": {},
   "outputs": [
    {
     "data": {
      "text/html": [
       "<div>\n",
       "<style scoped>\n",
       "    .dataframe tbody tr th:only-of-type {\n",
       "        vertical-align: middle;\n",
       "    }\n",
       "\n",
       "    .dataframe tbody tr th {\n",
       "        vertical-align: top;\n",
       "    }\n",
       "\n",
       "    .dataframe thead th {\n",
       "        text-align: right;\n",
       "    }\n",
       "</style>\n",
       "<table border=\"1\" class=\"dataframe\">\n",
       "  <thead>\n",
       "    <tr style=\"text-align: right;\">\n",
       "      <th></th>\n",
       "      <th>age</th>\n",
       "      <th>pop</th>\n",
       "      <th>license</th>\n",
       "      <th>pop2</th>\n",
       "      <th>license2</th>\n",
       "      <th>면허소지율</th>\n",
       "    </tr>\n",
       "  </thead>\n",
       "  <tbody>\n",
       "    <tr>\n",
       "      <th>0</th>\n",
       "      <td>20~29</td>\n",
       "      <td>6704990</td>\n",
       "      <td>4917391</td>\n",
       "      <td>670.4990</td>\n",
       "      <td>491.7391</td>\n",
       "      <td>42.309670</td>\n",
       "    </tr>\n",
       "    <tr>\n",
       "      <th>1</th>\n",
       "      <td>30~39</td>\n",
       "      <td>6753189</td>\n",
       "      <td>6247958</td>\n",
       "      <td>675.3189</td>\n",
       "      <td>624.7958</td>\n",
       "      <td>48.056975</td>\n",
       "    </tr>\n",
       "    <tr>\n",
       "      <th>2</th>\n",
       "      <td>40~49</td>\n",
       "      <td>8152507</td>\n",
       "      <td>7568416</td>\n",
       "      <td>815.2507</td>\n",
       "      <td>756.8416</td>\n",
       "      <td>48.142313</td>\n",
       "    </tr>\n",
       "    <tr>\n",
       "      <th>3</th>\n",
       "      <td>50~59</td>\n",
       "      <td>8541582</td>\n",
       "      <td>7503339</td>\n",
       "      <td>854.1582</td>\n",
       "      <td>750.3339</td>\n",
       "      <td>46.764574</td>\n",
       "    </tr>\n",
       "    <tr>\n",
       "      <th>4</th>\n",
       "      <td>60~64</td>\n",
       "      <td>3997812</td>\n",
       "      <td>3196470</td>\n",
       "      <td>399.7812</td>\n",
       "      <td>319.6470</td>\n",
       "      <td>44.430702</td>\n",
       "    </tr>\n",
       "    <tr>\n",
       "      <th>5</th>\n",
       "      <td>65~</td>\n",
       "      <td>11460280</td>\n",
       "      <td>4016538</td>\n",
       "      <td>1146.0280</td>\n",
       "      <td>401.6538</td>\n",
       "      <td>25.951962</td>\n",
       "    </tr>\n",
       "  </tbody>\n",
       "</table>\n",
       "</div>"
      ],
      "text/plain": [
       "     age       pop  license       pop2  license2      면허소지율\n",
       "0  20~29   6704990  4917391   670.4990  491.7391  42.309670\n",
       "1  30~39   6753189  6247958   675.3189  624.7958  48.056975\n",
       "2  40~49   8152507  7568416   815.2507  756.8416  48.142313\n",
       "3  50~59   8541582  7503339   854.1582  750.3339  46.764574\n",
       "4  60~64   3997812  3196470   399.7812  319.6470  44.430702\n",
       "5    65~  11460280  4016538  1146.0280  401.6538  25.951962"
      ]
     },
     "execution_count": 8,
     "metadata": {},
     "output_type": "execute_result"
    }
   ],
   "source": [
    "pop2021['면허소지율'] = pop2021['license']/(pop2021['pop'] + pop2021['license'])*100\n",
    "\n",
    "pop2021"
   ]
  },
  {
   "cell_type": "code",
   "execution_count": 30,
   "metadata": {
    "scrolled": false
   },
   "outputs": [
    {
     "data": {
      "text/plain": [
       "<Figure size 2880x864 with 0 Axes>"
      ]
     },
     "metadata": {},
     "output_type": "display_data"
    },
    {
     "data": {
      "image/png": "[encoded data removed]",
      "text/plain": [
       "<Figure size 432x288 with 1 Axes>"
      ]
     },
     "metadata": {
      "needs_background": "light"
     },
     "output_type": "display_data"
    }
   ],
   "source": [
    "label = ['20대', '30대', '40대', '50대', '60~64세', '65세 이상']\n",
    "index = np.arange(len(label))\n",
    "\n",
    "plt.figure(figsize=(40, 12))\n",
    "pop2021.plot(kind='bar', y=['license2', 'pop2'], label=('면허소지자','총 인구'), \n",
    "             stacked=True, color=['pink', 'lightskyblue'])\n",
    "plt.title('2021년 연령대별 운전면허 소지 비율')\n",
    "plt.xlabel('연령대')\n",
    "plt.ylabel('인구 (만명)')\n",
    "plt.xticks(index, label, rotation=0, fontsize=12)\n",
    "plt.show()"
   ]
  },
  {
   "cell_type": "code",
   "execution_count": null,
   "metadata": {},
   "outputs": [],
   "source": [
    "plt.plot(kind='bar', y=['license2', 'pop2'], label=('면허소지자','총 인구'), \n",
    "             stacked=True, color=['pink', 'lightskyblue'])"
   ]
  },
  {
   "cell_type": "code",
   "execution_count": 12,
   "metadata": {},
   "outputs": [
    {
     "name": "stdout",
     "output_type": "stream",
     "text": [
      "20대 면허 소지율:  42.31 %\n",
      "30대 면허 소지율:  48.06 %\n",
      "40대 면허 소지율:  48.14 %\n",
      "50대 면허 소지율:  46.76 %\n",
      "60~64세 면허 소지율:  44.43 %\n",
      "65세 이상 면허 소지율:  25.95 %\n"
     ]
    }
   ],
   "source": [
    "print('20대 면허 소지율: ', round(pop2021['면허소지율'][0], 2),'%')\n",
    "print('30대 면허 소지율: ', round(pop2021['면허소지율'][1], 2),'%')\n",
    "print('40대 면허 소지율: ', round(pop2021['면허소지율'][2], 2),'%')\n",
    "print('50대 면허 소지율: ', round(pop2021['면허소지율'][3], 2),'%')\n",
    "print('60~64세 면허 소지율: ', round(pop2021['면허소지율'][4], 2),'%')\n",
    "print('65세 이상 면허 소지율: ', round(pop2021['면허소지율'][5], 2),'%')"
   ]
  },
  {
   "cell_type": "markdown",
   "metadata": {},
   "source": [
    "## 연령대별 사고율 2020년"
   ]
  },
  {
   "cell_type": "code",
   "execution_count": 13,
   "metadata": {},
   "outputs": [],
   "source": [
    "driver2020 = pd.read_excel('C:/Users/alscj/python/Data Science/project/data/driver2020_ver0.2.xlsx')"
   ]
  },
  {
   "cell_type": "code",
   "execution_count": 14,
   "metadata": {},
   "outputs": [],
   "source": [
    "driver2020['사고율'] = driver2020['accident']/(driver2020['license']+driver2020['accident'])*100"
   ]
  },
  {
   "cell_type": "code",
   "execution_count": 15,
   "metadata": {},
   "outputs": [
    {
     "data": {
      "text/html": [
       "<div>\n",
       "<style scoped>\n",
       "    .dataframe tbody tr th:only-of-type {\n",
       "        vertical-align: middle;\n",
       "    }\n",
       "\n",
       "    .dataframe tbody tr th {\n",
       "        vertical-align: top;\n",
       "    }\n",
       "\n",
       "    .dataframe thead th {\n",
       "        text-align: right;\n",
       "    }\n",
       "</style>\n",
       "<table border=\"1\" class=\"dataframe\">\n",
       "  <thead>\n",
       "    <tr style=\"text-align: right;\">\n",
       "      <th></th>\n",
       "      <th>age</th>\n",
       "      <th>license</th>\n",
       "      <th>accident</th>\n",
       "      <th>사고율</th>\n",
       "    </tr>\n",
       "  </thead>\n",
       "  <tbody>\n",
       "    <tr>\n",
       "      <th>0</th>\n",
       "      <td>0~20</td>\n",
       "      <td>591687</td>\n",
       "      <td>7099</td>\n",
       "      <td>1.185565</td>\n",
       "    </tr>\n",
       "    <tr>\n",
       "      <th>1</th>\n",
       "      <td>21~30</td>\n",
       "      <td>5158851</td>\n",
       "      <td>29775</td>\n",
       "      <td>0.573851</td>\n",
       "    </tr>\n",
       "    <tr>\n",
       "      <th>2</th>\n",
       "      <td>31~40</td>\n",
       "      <td>6558580</td>\n",
       "      <td>31606</td>\n",
       "      <td>0.479592</td>\n",
       "    </tr>\n",
       "    <tr>\n",
       "      <th>3</th>\n",
       "      <td>41~50</td>\n",
       "      <td>4065476</td>\n",
       "      <td>38036</td>\n",
       "      <td>0.926913</td>\n",
       "    </tr>\n",
       "    <tr>\n",
       "      <th>4</th>\n",
       "      <td>51~60</td>\n",
       "      <td>7270780</td>\n",
       "      <td>50421</td>\n",
       "      <td>0.688698</td>\n",
       "    </tr>\n",
       "    <tr>\n",
       "      <th>5</th>\n",
       "      <td>61~64</td>\n",
       "      <td>2270258</td>\n",
       "      <td>18175</td>\n",
       "      <td>0.794212</td>\n",
       "    </tr>\n",
       "    <tr>\n",
       "      <th>6</th>\n",
       "      <td>65~</td>\n",
       "      <td>3682632</td>\n",
       "      <td>31072</td>\n",
       "      <td>0.836685</td>\n",
       "    </tr>\n",
       "  </tbody>\n",
       "</table>\n",
       "</div>"
      ],
      "text/plain": [
       "     age  license  accident       사고율\n",
       "0   0~20   591687      7099  1.185565\n",
       "1  21~30  5158851     29775  0.573851\n",
       "2  31~40  6558580     31606  0.479592\n",
       "3  41~50  4065476     38036  0.926913\n",
       "4  51~60  7270780     50421  0.688698\n",
       "5  61~64  2270258     18175  0.794212\n",
       "6    65~  3682632     31072  0.836685"
      ]
     },
     "execution_count": 15,
     "metadata": {},
     "output_type": "execute_result"
    }
   ],
   "source": [
    "driver2020"
   ]
  },
  {
   "cell_type": "code",
   "execution_count": 16,
   "metadata": {},
   "outputs": [
    {
     "data": {
      "image/png": "[encoded data removed]",
      "text/plain": [
       "<Figure size 864x576 with 1 Axes>"
      ]
     },
     "metadata": {
      "needs_background": "light"
     },
     "output_type": "display_data"
    }
   ],
   "source": [
    "label = ['20대 이하', '20대', '30대', '40대', '50대', '61~64세', '65세 이상']\n",
    "index = np.arange(len(label))\n",
    "\n",
    "plt.figure(figsize=(12, 8))\n",
    "plt.bar(index, driver2020['사고율'], color='lightskyblue')\n",
    "plt.title('2020년 연령대별 사고율')\n",
    "plt.xlabel('연령대')\n",
    "plt.ylabel('사고율 (%)')\n",
    "plt.xticks(index, label, rotation=0, fontsize=12)\n",
    "plt.show()"
   ]
  },
  {
   "cell_type": "code",
   "execution_count": 22,
   "metadata": {},
   "outputs": [
    {
     "name": "stdout",
     "output_type": "stream",
     "text": [
      "20대 이하 사고율:  1.19 %\n",
      "20대:  0.57 %\n",
      "30대:  0.48 %\n",
      "40대:  0.93 %\n",
      "50대:  0.69 %\n",
      "61~64세:  0.79 %\n",
      "65세 이상:  0.84 %\n"
     ]
    }
   ],
   "source": [
    "print('20대 이하 사고율: ', round(driver2020['사고율'][0], 2),'%')\n",
    "print('20대: ', round(driver2020['사고율'][1], 2),'%')\n",
    "print('30대: ', round(driver2020['사고율'][2], 2),'%')\n",
    "print('40대: ', round(driver2020['사고율'][3], 2),'%')\n",
    "print('50대: ', round(driver2020['사고율'][4], 2),'%')\n",
    "print('61~64세: ', round(driver2020['사고율'][5], 2),'%')\n",
    "print('65세 이상: ', round(driver2020['사고율'][6], 2),'%')"
   ]
  },
  {
   "cell_type": "markdown",
   "metadata": {},
   "source": [
    "## 연령대별 사고율 2021년"
   ]
  },
  {
   "cell_type": "code",
   "execution_count": 24,
   "metadata": {},
   "outputs": [],
   "source": [
    "driver2021 = pd.read_excel('C:/Users/alscj/python/Data Science/project/data/driver2021_ver0.2.xlsx')"
   ]
  },
  {
   "cell_type": "code",
   "execution_count": 25,
   "metadata": {},
   "outputs": [],
   "source": [
    "driver2021['사고율'] = driver2021['accident']/(driver2021['license']+driver2021['accident'])*100"
   ]
  },
  {
   "cell_type": "code",
   "execution_count": 26,
   "metadata": {},
   "outputs": [
    {
     "data": {
      "image/png": "[encoded data removed]",
      "text/plain": [
       "<Figure size 864x576 with 1 Axes>"
      ]
     },
     "metadata": {
      "needs_background": "light"
     },
     "output_type": "display_data"
    }
   ],
   "source": [
    "label = ['20대 이하', '20대', '30대', '40대', '50대', '61~64세', '65세 이상']\n",
    "index = np.arange(len(label))\n",
    "\n",
    "plt.figure(figsize=(12, 8))\n",
    "plt.bar(index, driver2021['사고율'], color='lightskyblue')\n",
    "plt.title('2021년 연령대별 사고율')\n",
    "plt.xlabel('연령대')\n",
    "plt.ylabel('사고율 (%)')\n",
    "plt.xticks(index, label, rotation=0, fontsize=12)\n",
    "plt.show()"
   ]
  },
  {
   "cell_type": "code",
   "execution_count": 27,
   "metadata": {},
   "outputs": [
    {
     "name": "stdout",
     "output_type": "stream",
     "text": [
      "20대 이하 사고율:  1.19 %\n",
      "20대:  0.55 %\n",
      "30대:  0.86 %\n",
      "40대:  0.48 %\n",
      "50대:  1.33 %\n",
      "61~64세:  0.74 %\n",
      "65세 이상:  0.79 %\n"
     ]
    }
   ],
   "source": [
    "print('20대 이하 사고율: ', round(driver2021['사고율'][0], 2),'%')\n",
    "print('20대: ', round(driver2021['사고율'][1], 2),'%')\n",
    "print('30대: ', round(driver2021['사고율'][2], 2),'%')\n",
    "print('40대: ', round(driver2021['사고율'][3], 2),'%')\n",
    "print('50대: ', round(driver2021['사고율'][4], 2),'%')\n",
    "print('61~64세: ', round(driver2021['사고율'][5], 2),'%')\n",
    "print('65세 이상: ', round(driver2021['사고율'][6], 2),'%')"
   ]
  },
  {
   "cell_type": "code",
   "execution_count": null,
   "metadata": {},
   "outputs": [],
   "source": []
  }
 ],
 "metadata": {
  "kernelspec": {
   "display_name": "Python 3",
   "language": "python",
   "name": "python3"
  },
  "language_info": {
   "codemirror_mode": {
    "name": "ipython",
    "version": 3
   },
   "file_extension": ".py",
   "mimetype": "text/x-python",
   "name": "python",
   "nbconvert_exporter": "python",
   "pygments_lexer": "ipython3",
   "version": "3.8.5"
  }
 },
 "nbformat": 4,
 "nbformat_minor": 4
}
