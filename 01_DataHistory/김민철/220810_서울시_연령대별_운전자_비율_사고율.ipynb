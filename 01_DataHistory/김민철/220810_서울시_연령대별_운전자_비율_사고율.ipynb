{
 "cells": [
  {
   "cell_type": "markdown",
   "id": "70056d3c",
   "metadata": {},
   "source": [
    "# 서울시 연령대에 따른 운전자 비율과 사고율"
   ]
  },
  {
   "cell_type": "markdown",
   "id": "4a2483c4",
   "metadata": {},
   "source": [
    "### 서울시 데이터 EDA화의 목적\n",
    "- 개요: 처음에는 전국 데이터를 수집하여 EDA화 하여 사고율 부분을 (사고건수)/(운전면허소지자)으로 표현하였으나, 대한민국의 주요 특징인 장롱면허 인구가 다수 존재할 가능성이 있기에, 이를 정확히 수치화 하려 하였으나 전국 연령별 자동차등록 통계가 존재하지 않아 서울시 데이터를 사용하여 사고율 부분을 (사고건수)/(자동차등록수)로 표현하기로 함.  "
   ]
  },
  {
   "cell_type": "code",
   "execution_count": 1,
   "id": "c712d0d1",
   "metadata": {},
   "outputs": [],
   "source": [
    "import pandas as pd\n",
    "import numpy as np\n",
    "\n",
    "import matplotlib.pyplot as plt\n",
    "%matplotlib inline\n",
    "\n",
    "import seaborn as sns\n",
    "\n",
    "import warnings\n",
    "warnings.filterwarnings('ignore')\n",
    "\n",
    "plt.rcParams['font.family'] = 'Malgun Gothic'"
   ]
  },
  {
   "cell_type": "markdown",
   "id": "f8c987b5",
   "metadata": {},
   "source": [
    "## 연령대별 자동차 소지율"
   ]
  },
  {
   "cell_type": "code",
   "execution_count": 3,
   "id": "f1db9d84",
   "metadata": {},
   "outputs": [
    {
     "data": {
      "text/html": [
       "<div>\n",
       "<style scoped>\n",
       "    .dataframe tbody tr th:only-of-type {\n",
       "        vertical-align: middle;\n",
       "    }\n",
       "\n",
       "    .dataframe tbody tr th {\n",
       "        vertical-align: top;\n",
       "    }\n",
       "\n",
       "    .dataframe thead th {\n",
       "        text-align: right;\n",
       "    }\n",
       "</style>\n",
       "<table border=\"1\" class=\"dataframe\">\n",
       "  <thead>\n",
       "    <tr style=\"text-align: right;\">\n",
       "      <th></th>\n",
       "      <th>age</th>\n",
       "      <th>pop</th>\n",
       "      <th>license</th>\n",
       "      <th>car</th>\n",
       "    </tr>\n",
       "  </thead>\n",
       "  <tbody>\n",
       "    <tr>\n",
       "      <th>0</th>\n",
       "      <td>0~20</td>\n",
       "      <td>416854</td>\n",
       "      <td>35984</td>\n",
       "      <td>2058</td>\n",
       "    </tr>\n",
       "    <tr>\n",
       "      <th>1</th>\n",
       "      <td>20~29</td>\n",
       "      <td>1524869</td>\n",
       "      <td>1046051</td>\n",
       "      <td>63276</td>\n",
       "    </tr>\n",
       "    <tr>\n",
       "      <th>2</th>\n",
       "      <td>30~39</td>\n",
       "      <td>1523209</td>\n",
       "      <td>1480919</td>\n",
       "      <td>449470</td>\n",
       "    </tr>\n",
       "    <tr>\n",
       "      <th>3</th>\n",
       "      <td>40~49</td>\n",
       "      <td>1564547</td>\n",
       "      <td>1775148</td>\n",
       "      <td>701029</td>\n",
       "    </tr>\n",
       "    <tr>\n",
       "      <th>4</th>\n",
       "      <td>50~59</td>\n",
       "      <td>1574076</td>\n",
       "      <td>1766102</td>\n",
       "      <td>725384</td>\n",
       "    </tr>\n",
       "    <tr>\n",
       "      <th>5</th>\n",
       "      <td>60~</td>\n",
       "      <td>2295236</td>\n",
       "      <td>1760338</td>\n",
       "      <td>755466</td>\n",
       "    </tr>\n",
       "  </tbody>\n",
       "</table>\n",
       "</div>"
      ],
      "text/plain": [
       "     age      pop  license     car\n",
       "0   0~20   416854    35984    2058\n",
       "1  20~29  1524869  1046051   63276\n",
       "2  30~39  1523209  1480919  449470\n",
       "3  40~49  1564547  1775148  701029\n",
       "4  50~59  1574076  1766102  725384\n",
       "5    60~  2295236  1760338  755466"
      ]
     },
     "execution_count": 3,
     "metadata": {},
     "output_type": "execute_result"
    }
   ],
   "source": [
    "pop2020_seoul = pd.read_csv('C:/Users/NT900X3T-K58L/python/Data Science/project/data/pop2020_seoul.csv')\n",
    "pop2020_seoul"
   ]
  },
  {
   "cell_type": "code",
   "execution_count": 4,
   "id": "96717727",
   "metadata": {},
   "outputs": [
    {
     "data": {
      "text/html": [
       "<div>\n",
       "<style scoped>\n",
       "    .dataframe tbody tr th:only-of-type {\n",
       "        vertical-align: middle;\n",
       "    }\n",
       "\n",
       "    .dataframe tbody tr th {\n",
       "        vertical-align: top;\n",
       "    }\n",
       "\n",
       "    .dataframe thead th {\n",
       "        text-align: right;\n",
       "    }\n",
       "</style>\n",
       "<table border=\"1\" class=\"dataframe\">\n",
       "  <thead>\n",
       "    <tr style=\"text-align: right;\">\n",
       "      <th></th>\n",
       "      <th>age</th>\n",
       "      <th>pop</th>\n",
       "      <th>license</th>\n",
       "      <th>car</th>\n",
       "      <th>pop2</th>\n",
       "      <th>license2</th>\n",
       "      <th>car2</th>\n",
       "    </tr>\n",
       "  </thead>\n",
       "  <tbody>\n",
       "    <tr>\n",
       "      <th>0</th>\n",
       "      <td>0~20</td>\n",
       "      <td>416854</td>\n",
       "      <td>35984</td>\n",
       "      <td>2058</td>\n",
       "      <td>416.854</td>\n",
       "      <td>35.984</td>\n",
       "      <td>2.058</td>\n",
       "    </tr>\n",
       "    <tr>\n",
       "      <th>1</th>\n",
       "      <td>20~29</td>\n",
       "      <td>1524869</td>\n",
       "      <td>1046051</td>\n",
       "      <td>63276</td>\n",
       "      <td>1524.869</td>\n",
       "      <td>1046.051</td>\n",
       "      <td>63.276</td>\n",
       "    </tr>\n",
       "    <tr>\n",
       "      <th>2</th>\n",
       "      <td>30~39</td>\n",
       "      <td>1523209</td>\n",
       "      <td>1480919</td>\n",
       "      <td>449470</td>\n",
       "      <td>1523.209</td>\n",
       "      <td>1480.919</td>\n",
       "      <td>449.470</td>\n",
       "    </tr>\n",
       "    <tr>\n",
       "      <th>3</th>\n",
       "      <td>40~49</td>\n",
       "      <td>1564547</td>\n",
       "      <td>1775148</td>\n",
       "      <td>701029</td>\n",
       "      <td>1564.547</td>\n",
       "      <td>1775.148</td>\n",
       "      <td>701.029</td>\n",
       "    </tr>\n",
       "    <tr>\n",
       "      <th>4</th>\n",
       "      <td>50~59</td>\n",
       "      <td>1574076</td>\n",
       "      <td>1766102</td>\n",
       "      <td>725384</td>\n",
       "      <td>1574.076</td>\n",
       "      <td>1766.102</td>\n",
       "      <td>725.384</td>\n",
       "    </tr>\n",
       "    <tr>\n",
       "      <th>5</th>\n",
       "      <td>60~</td>\n",
       "      <td>2295236</td>\n",
       "      <td>1760338</td>\n",
       "      <td>755466</td>\n",
       "      <td>2295.236</td>\n",
       "      <td>1760.338</td>\n",
       "      <td>755.466</td>\n",
       "    </tr>\n",
       "  </tbody>\n",
       "</table>\n",
       "</div>"
      ],
      "text/plain": [
       "     age      pop  license     car      pop2  license2     car2\n",
       "0   0~20   416854    35984    2058   416.854    35.984    2.058\n",
       "1  20~29  1524869  1046051   63276  1524.869  1046.051   63.276\n",
       "2  30~39  1523209  1480919  449470  1523.209  1480.919  449.470\n",
       "3  40~49  1564547  1775148  701029  1564.547  1775.148  701.029\n",
       "4  50~59  1574076  1766102  725384  1574.076  1766.102  725.384\n",
       "5    60~  2295236  1760338  755466  2295.236  1760.338  755.466"
      ]
     },
     "execution_count": 4,
     "metadata": {},
     "output_type": "execute_result"
    }
   ],
   "source": [
    "# 단위를 축소\n",
    "\n",
    "pop2020_seoul['pop2'] = pop2020_seoul['pop']/1000\n",
    "pop2020_seoul['license2'] = pop2020_seoul['license']/1000\n",
    "pop2020_seoul['car2'] = pop2020_seoul['car']/1000\n",
    "pop2020_seoul"
   ]
  },
  {
   "cell_type": "code",
   "execution_count": 5,
   "id": "f9ef9373",
   "metadata": {},
   "outputs": [
    {
     "data": {
      "text/html": [
       "<div>\n",
       "<style scoped>\n",
       "    .dataframe tbody tr th:only-of-type {\n",
       "        vertical-align: middle;\n",
       "    }\n",
       "\n",
       "    .dataframe tbody tr th {\n",
       "        vertical-align: top;\n",
       "    }\n",
       "\n",
       "    .dataframe thead th {\n",
       "        text-align: right;\n",
       "    }\n",
       "</style>\n",
       "<table border=\"1\" class=\"dataframe\">\n",
       "  <thead>\n",
       "    <tr style=\"text-align: right;\">\n",
       "      <th></th>\n",
       "      <th>age</th>\n",
       "      <th>pop</th>\n",
       "      <th>license</th>\n",
       "      <th>car</th>\n",
       "      <th>pop2</th>\n",
       "      <th>license2</th>\n",
       "      <th>car2</th>\n",
       "      <th>운전면허소지율</th>\n",
       "    </tr>\n",
       "  </thead>\n",
       "  <tbody>\n",
       "    <tr>\n",
       "      <th>0</th>\n",
       "      <td>0~20</td>\n",
       "      <td>416854</td>\n",
       "      <td>35984</td>\n",
       "      <td>2058</td>\n",
       "      <td>416.854</td>\n",
       "      <td>35.984</td>\n",
       "      <td>2.058</td>\n",
       "      <td>5.719209</td>\n",
       "    </tr>\n",
       "    <tr>\n",
       "      <th>1</th>\n",
       "      <td>20~29</td>\n",
       "      <td>1524869</td>\n",
       "      <td>1046051</td>\n",
       "      <td>63276</td>\n",
       "      <td>1524.869</td>\n",
       "      <td>1046.051</td>\n",
       "      <td>63.276</td>\n",
       "      <td>6.049036</td>\n",
       "    </tr>\n",
       "    <tr>\n",
       "      <th>2</th>\n",
       "      <td>30~39</td>\n",
       "      <td>1523209</td>\n",
       "      <td>1480919</td>\n",
       "      <td>449470</td>\n",
       "      <td>1523.209</td>\n",
       "      <td>1480.919</td>\n",
       "      <td>449.470</td>\n",
       "      <td>30.350748</td>\n",
       "    </tr>\n",
       "    <tr>\n",
       "      <th>3</th>\n",
       "      <td>40~49</td>\n",
       "      <td>1564547</td>\n",
       "      <td>1775148</td>\n",
       "      <td>701029</td>\n",
       "      <td>1564.547</td>\n",
       "      <td>1775.148</td>\n",
       "      <td>701.029</td>\n",
       "      <td>39.491299</td>\n",
       "    </tr>\n",
       "    <tr>\n",
       "      <th>4</th>\n",
       "      <td>50~59</td>\n",
       "      <td>1574076</td>\n",
       "      <td>1766102</td>\n",
       "      <td>725384</td>\n",
       "      <td>1574.076</td>\n",
       "      <td>1766.102</td>\n",
       "      <td>725.384</td>\n",
       "      <td>41.072599</td>\n",
       "    </tr>\n",
       "    <tr>\n",
       "      <th>5</th>\n",
       "      <td>60~</td>\n",
       "      <td>2295236</td>\n",
       "      <td>1760338</td>\n",
       "      <td>755466</td>\n",
       "      <td>2295.236</td>\n",
       "      <td>1760.338</td>\n",
       "      <td>755.466</td>\n",
       "      <td>42.915963</td>\n",
       "    </tr>\n",
       "  </tbody>\n",
       "</table>\n",
       "</div>"
      ],
      "text/plain": [
       "     age      pop  license     car      pop2  license2     car2    운전면허소지율\n",
       "0   0~20   416854    35984    2058   416.854    35.984    2.058   5.719209\n",
       "1  20~29  1524869  1046051   63276  1524.869  1046.051   63.276   6.049036\n",
       "2  30~39  1523209  1480919  449470  1523.209  1480.919  449.470  30.350748\n",
       "3  40~49  1564547  1775148  701029  1564.547  1775.148  701.029  39.491299\n",
       "4  50~59  1574076  1766102  725384  1574.076  1766.102  725.384  41.072599\n",
       "5    60~  2295236  1760338  755466  2295.236  1760.338  755.466  42.915963"
      ]
     },
     "execution_count": 5,
     "metadata": {},
     "output_type": "execute_result"
    }
   ],
   "source": [
    "# 운전면허 소지율 추가\n",
    "pop2020_seoul['운전면허소지율'] = pop2020_seoul['car']/pop2020_seoul['license']*100\n",
    "pop2020_seoul"
   ]
  },
  {
   "cell_type": "code",
   "execution_count": 6,
   "id": "1adef81f",
   "metadata": {},
   "outputs": [
    {
     "data": {
      "text/plain": [
       "<Figure size 1080x720 with 0 Axes>"
      ]
     },
     "metadata": {},
     "output_type": "display_data"
    },
    {
     "data": {
      "image/png": "[encoded data removed]",
      "text/plain": [
       "<Figure size 432x288 with 1 Axes>"
      ]
     },
     "metadata": {
      "needs_background": "light"
     },
     "output_type": "display_data"
    }
   ],
   "source": [
    "# 2020년 서울시 연령대별 차량등록 비율 그래프화\n",
    "\n",
    "label = ['10대', '20대', '30대', '40대', '50대', '60세 이상']\n",
    "index = np.arange(len(label))\n",
    "\n",
    "plt.figure(figsize=(15, 10))\n",
    "pop2020_seoul.plot(kind='bar', y=['car2', 'license2'], label=('차량등록자','운전면허소지자'), \n",
    "             stacked=True, color=['pink', 'lightskyblue'])\n",
    "plt.title('2020년 서울시 연령대별 차량등록 비율')\n",
    "plt.xlabel('연령대')\n",
    "plt.ylabel('인구 (천명)')\n",
    "plt.xticks(index, label, rotation=0)\n",
    "plt.show()"
   ]
  },
  {
   "cell_type": "code",
   "execution_count": 7,
   "id": "449bf23b",
   "metadata": {},
   "outputs": [
    {
     "name": "stdout",
     "output_type": "stream",
     "text": [
      "10대 차량등록율:  5.72 %\n",
      "20대 차량등록율:  6.05 %\n",
      "30대 차량등록율:  30.35 %\n",
      "40대 차량등록율:  39.49 %\n",
      "50대 차량등록율:  41.07 %\n",
      "60세 차량등록율:  42.92 %\n"
     ]
    }
   ],
   "source": [
    "print('10대 차량등록율: ', round(pop2020_seoul['운전면허소지율'][0], 2),'%')\n",
    "print('20대 차량등록율: ', round(pop2020_seoul['운전면허소지율'][1], 2),'%')\n",
    "print('30대 차량등록율: ', round(pop2020_seoul['운전면허소지율'][2], 2),'%')\n",
    "print('40대 차량등록율: ', round(pop2020_seoul['운전면허소지율'][3], 2),'%')\n",
    "print('50대 차량등록율: ', round(pop2020_seoul['운전면허소지율'][4], 2),'%')\n",
    "print('60세 차량등록율: ', round(pop2020_seoul['운전면허소지율'][5], 2),'%')"
   ]
  },
  {
   "cell_type": "markdown",
   "id": "da6fc463",
   "metadata": {},
   "source": [
    "### 결론\n",
    "- 위의 그래프와 같이, 연령대가 높을수록 자동차 소유 비율이 높았습니다. 학생이거나 사회초년생 비율이 높은 20대의 자동차 소유 비율이 굉장히 낮았습니다."
   ]
  },
  {
   "cell_type": "markdown",
   "id": "a948f747",
   "metadata": {},
   "source": [
    "## 연령대별 사고율"
   ]
  },
  {
   "cell_type": "code",
   "execution_count": 12,
   "id": "7343fb09",
   "metadata": {
    "scrolled": true
   },
   "outputs": [
    {
     "data": {
      "text/html": [
       "<div>\n",
       "<style scoped>\n",
       "    .dataframe tbody tr th:only-of-type {\n",
       "        vertical-align: middle;\n",
       "    }\n",
       "\n",
       "    .dataframe tbody tr th {\n",
       "        vertical-align: top;\n",
       "    }\n",
       "\n",
       "    .dataframe thead th {\n",
       "        text-align: right;\n",
       "    }\n",
       "</style>\n",
       "<table border=\"1\" class=\"dataframe\">\n",
       "  <thead>\n",
       "    <tr style=\"text-align: right;\">\n",
       "      <th></th>\n",
       "      <th>age</th>\n",
       "      <th>car</th>\n",
       "      <th>license</th>\n",
       "      <th>accident</th>\n",
       "    </tr>\n",
       "  </thead>\n",
       "  <tbody>\n",
       "    <tr>\n",
       "      <th>0</th>\n",
       "      <td>10대</td>\n",
       "      <td>2058.0</td>\n",
       "      <td>35984.0</td>\n",
       "      <td>1304.0</td>\n",
       "    </tr>\n",
       "    <tr>\n",
       "      <th>1</th>\n",
       "      <td>20대</td>\n",
       "      <td>63276.0</td>\n",
       "      <td>1046051.0</td>\n",
       "      <td>4990.0</td>\n",
       "    </tr>\n",
       "    <tr>\n",
       "      <th>2</th>\n",
       "      <td>30대</td>\n",
       "      <td>449470.0</td>\n",
       "      <td>1480919.0</td>\n",
       "      <td>5825.0</td>\n",
       "    </tr>\n",
       "    <tr>\n",
       "      <th>3</th>\n",
       "      <td>40대</td>\n",
       "      <td>701029.0</td>\n",
       "      <td>1775148.0</td>\n",
       "      <td>5951.0</td>\n",
       "    </tr>\n",
       "    <tr>\n",
       "      <th>4</th>\n",
       "      <td>50대</td>\n",
       "      <td>725384.0</td>\n",
       "      <td>1766102.0</td>\n",
       "      <td>7926.0</td>\n",
       "    </tr>\n",
       "    <tr>\n",
       "      <th>5</th>\n",
       "      <td>60세 이상</td>\n",
       "      <td>755466.0</td>\n",
       "      <td>1760338.0</td>\n",
       "      <td>8423.0</td>\n",
       "    </tr>\n",
       "    <tr>\n",
       "      <th>6</th>\n",
       "      <td>NaN</td>\n",
       "      <td>NaN</td>\n",
       "      <td>NaN</td>\n",
       "      <td>NaN</td>\n",
       "    </tr>\n",
       "    <tr>\n",
       "      <th>7</th>\n",
       "      <td>NaN</td>\n",
       "      <td>NaN</td>\n",
       "      <td>NaN</td>\n",
       "      <td>NaN</td>\n",
       "    </tr>\n",
       "  </tbody>\n",
       "</table>\n",
       "</div>"
      ],
      "text/plain": [
       "      age       car    license  accident\n",
       "0     10대    2058.0    35984.0    1304.0\n",
       "1     20대   63276.0  1046051.0    4990.0\n",
       "2     30대  449470.0  1480919.0    5825.0\n",
       "3     40대  701029.0  1775148.0    5951.0\n",
       "4     50대  725384.0  1766102.0    7926.0\n",
       "5  60세 이상  755466.0  1760338.0    8423.0\n",
       "6     NaN       NaN        NaN       NaN\n",
       "7     NaN       NaN        NaN       NaN"
      ]
     },
     "execution_count": 12,
     "metadata": {},
     "output_type": "execute_result"
    }
   ],
   "source": [
    "driver2020_seoul = pd.read_csv('C:/Users/NT900X3T-K58L/python/Data Science/project/data/driver2020_seoul.csv', encoding='cp949')\n",
    "driver2020_seoul"
   ]
  },
  {
   "cell_type": "code",
   "execution_count": 13,
   "id": "a6c5e74f",
   "metadata": {},
   "outputs": [],
   "source": [
    "# NaN 값 제거\n",
    "\n",
    "driver2020_seoul.dropna(inplace=True)"
   ]
  },
  {
   "cell_type": "code",
   "execution_count": 14,
   "id": "9b7d7419",
   "metadata": {},
   "outputs": [
    {
     "data": {
      "text/html": [
       "<div>\n",
       "<style scoped>\n",
       "    .dataframe tbody tr th:only-of-type {\n",
       "        vertical-align: middle;\n",
       "    }\n",
       "\n",
       "    .dataframe tbody tr th {\n",
       "        vertical-align: top;\n",
       "    }\n",
       "\n",
       "    .dataframe thead th {\n",
       "        text-align: right;\n",
       "    }\n",
       "</style>\n",
       "<table border=\"1\" class=\"dataframe\">\n",
       "  <thead>\n",
       "    <tr style=\"text-align: right;\">\n",
       "      <th></th>\n",
       "      <th>age</th>\n",
       "      <th>car</th>\n",
       "      <th>license</th>\n",
       "      <th>accident</th>\n",
       "      <th>사고율</th>\n",
       "      <th>사고율2</th>\n",
       "    </tr>\n",
       "  </thead>\n",
       "  <tbody>\n",
       "    <tr>\n",
       "      <th>0</th>\n",
       "      <td>10대</td>\n",
       "      <td>2058.0</td>\n",
       "      <td>35984.0</td>\n",
       "      <td>1304.0</td>\n",
       "      <td>63.362488</td>\n",
       "      <td>3.623833</td>\n",
       "    </tr>\n",
       "    <tr>\n",
       "      <th>1</th>\n",
       "      <td>20대</td>\n",
       "      <td>63276.0</td>\n",
       "      <td>1046051.0</td>\n",
       "      <td>4990.0</td>\n",
       "      <td>7.886086</td>\n",
       "      <td>0.477032</td>\n",
       "    </tr>\n",
       "    <tr>\n",
       "      <th>2</th>\n",
       "      <td>30대</td>\n",
       "      <td>449470.0</td>\n",
       "      <td>1480919.0</td>\n",
       "      <td>5825.0</td>\n",
       "      <td>1.295971</td>\n",
       "      <td>0.393337</td>\n",
       "    </tr>\n",
       "    <tr>\n",
       "      <th>3</th>\n",
       "      <td>40대</td>\n",
       "      <td>701029.0</td>\n",
       "      <td>1775148.0</td>\n",
       "      <td>5951.0</td>\n",
       "      <td>0.848895</td>\n",
       "      <td>0.335240</td>\n",
       "    </tr>\n",
       "    <tr>\n",
       "      <th>4</th>\n",
       "      <td>50대</td>\n",
       "      <td>725384.0</td>\n",
       "      <td>1766102.0</td>\n",
       "      <td>7926.0</td>\n",
       "      <td>1.092663</td>\n",
       "      <td>0.448785</td>\n",
       "    </tr>\n",
       "    <tr>\n",
       "      <th>5</th>\n",
       "      <td>60세 이상</td>\n",
       "      <td>755466.0</td>\n",
       "      <td>1760338.0</td>\n",
       "      <td>8423.0</td>\n",
       "      <td>1.114941</td>\n",
       "      <td>0.478488</td>\n",
       "    </tr>\n",
       "  </tbody>\n",
       "</table>\n",
       "</div>"
      ],
      "text/plain": [
       "      age       car    license  accident        사고율      사고율2\n",
       "0     10대    2058.0    35984.0    1304.0  63.362488  3.623833\n",
       "1     20대   63276.0  1046051.0    4990.0   7.886086  0.477032\n",
       "2     30대  449470.0  1480919.0    5825.0   1.295971  0.393337\n",
       "3     40대  701029.0  1775148.0    5951.0   0.848895  0.335240\n",
       "4     50대  725384.0  1766102.0    7926.0   1.092663  0.448785\n",
       "5  60세 이상  755466.0  1760338.0    8423.0   1.114941  0.478488"
      ]
     },
     "execution_count": 14,
     "metadata": {},
     "output_type": "execute_result"
    }
   ],
   "source": [
    "# 사고율([accident]/[car] * 100) 추가\n",
    "# 사고율2([accident]/[license] * 100) 추가\n",
    "\n",
    "driver2020_seoul['사고율'] = driver2020_seoul['accident']/driver2020_seoul['car']*100\n",
    "driver2020_seoul['사고율2'] = driver2020_seoul['accident']/driver2020_seoul['license']*100\n",
    "driver2020_seoul"
   ]
  },
  {
   "cell_type": "code",
   "execution_count": 15,
   "id": "d2bbeeaf",
   "metadata": {},
   "outputs": [
    {
     "data": {
      "image/png": "[encoded data removed]",
      "text/plain": [
       "<Figure size 864x576 with 1 Axes>"
      ]
     },
     "metadata": {
      "needs_background": "light"
     },
     "output_type": "display_data"
    }
   ],
   "source": [
    "# 사고건수/운전면허소지자수\n",
    "\n",
    "label = ['10대', '20대', '30대', '40대', '50대', '60세 이상']\n",
    "index = np.arange(len(label))\n",
    "\n",
    "plt.figure(figsize=(12, 8))\n",
    "plt.bar(label, driver2020_seoul['사고율2'], color='lightskyblue')\n",
    "plt.title('2020년 서울시 연령대별 사고율')\n",
    "plt.xlabel('연령대')\n",
    "plt.ylabel('사고율 (%)')\n",
    "plt.xticks(index, label, rotation=0, fontsize=12)\n",
    "plt.show()"
   ]
  },
  {
   "cell_type": "code",
   "execution_count": 16,
   "id": "85cb9fdc",
   "metadata": {},
   "outputs": [
    {
     "name": "stdout",
     "output_type": "stream",
     "text": [
      "10대:  3.62 %\n",
      "20대:  0.48 %\n",
      "30대:  0.39 %\n",
      "40대:  0.34 %\n",
      "50대:  0.45 %\n",
      "60세 이상:  0.48 %\n"
     ]
    }
   ],
   "source": [
    "print('10대: ', round(driver2020_seoul['사고율2'][0], 2),'%')\n",
    "print('20대: ', round(driver2020_seoul['사고율2'][1], 2),'%')\n",
    "print('30대: ', round(driver2020_seoul['사고율2'][2], 2),'%')\n",
    "print('40대: ', round(driver2020_seoul['사고율2'][3], 2),'%')\n",
    "print('50대: ', round(driver2020_seoul['사고율2'][4], 2),'%')\n",
    "print('60세 이상: ', round(driver2020_seoul['사고율2'][5], 2),'%')"
   ]
  },
  {
   "cell_type": "code",
   "execution_count": 17,
   "id": "1f4ca92b",
   "metadata": {
    "scrolled": false
   },
   "outputs": [
    {
     "data": {
      "image/png": "[encoded data removed]",
      "text/plain": [
       "<Figure size 864x576 with 1 Axes>"
      ]
     },
     "metadata": {
      "needs_background": "light"
     },
     "output_type": "display_data"
    }
   ],
   "source": [
    "# 사고건수/자동차등록대수 \n",
    "\n",
    "label = ['10대', '20대', '30대', '40대', '50대', '60세 이상']\n",
    "index = np.arange(len(label))\n",
    "\n",
    "plt.figure(figsize=(12, 8))\n",
    "plt.bar(label, driver2020_seoul['사고율'], color='lightskyblue')\n",
    "plt.title('2020년 서울시 연령대별 사고율')\n",
    "plt.xlabel('연령대')\n",
    "plt.ylabel('사고율 (%)')\n",
    "plt.xticks(index, label, rotation=0, fontsize=12)\n",
    "plt.show()"
   ]
  },
  {
   "cell_type": "code",
   "execution_count": 20,
   "id": "baa3fa1f",
   "metadata": {},
   "outputs": [
    {
     "data": {
      "application/vnd.plotly.v1+json": {
       "config": {
        "plotlyServerURL": "https://plot.ly"
       },
       "data": [
        {
         "marker": {
          "color": "red"
         },
         "name": "2020년 사망률",
         "type": "scatter",
         "x": [
          "10대",
          "20대",
          "30대",
          "40대",
          "50대",
          "60세 이상"
         ],
         "y": [
          63.36248785228376,
          7.886086351855363,
          1.2959708100651879,
          0.8488949815200227,
          1.0926626448887762,
          1.1149409768275476
         ]
        }
       ],
       "layout": {
        "template": {
         "data": {
          "bar": [
           {
            "error_x": {
             "color": "#2a3f5f"
            },
            "error_y": {
             "color": "#2a3f5f"
            },
            "marker": {
             "line": {
              "color": "#E5ECF6",
              "width": 0.5
             },
             "pattern": {
              "fillmode": "overlay",
              "size": 10,
              "solidity": 0.2
             }
            },
            "type": "bar"
           }
          ],
          "barpolar": [
           {
            "marker": {
             "line": {
              "color": "#E5ECF6",
              "width": 0.5
             },
             "pattern": {
              "fillmode": "overlay",
              "size": 10,
              "solidity": 0.2
             }
            },
            "type": "barpolar"
           }
          ],
          "carpet": [
           {
            "aaxis": {
             "endlinecolor": "#2a3f5f",
             "gridcolor": "white",
             "linecolor": "white",
             "minorgridcolor": "white",
             "startlinecolor": "#2a3f5f"
            },
            "baxis": {
             "endlinecolor": "#2a3f5f",
             "gridcolor": "white",
             "linecolor": "white",
             "minorgridcolor": "white",
             "startlinecolor": "#2a3f5f"
            },
            "type": "carpet"
           }
          ],
          "choropleth": [
           {
            "colorbar": {
             "outlinewidth": 0,
             "ticks": ""
            },
            "type": "choropleth"
           }
          ],
          "contour": [
           {
            "colorbar": {
             "outlinewidth": 0,
             "ticks": ""
            },
            "colorscale": [
             [
              0,
              "#0d0887"
             ],
             [
              0.1111111111111111,
              "#46039f"
             ],
             [
              0.2222222222222222,
              "#7201a8"
             ],
             [
              0.3333333333333333,
              "#9c179e"
             ],
             [
              0.4444444444444444,
              "#bd3786"
             ],
             [
              0.5555555555555556,
              "#d8576b"
             ],
             [
              0.6666666666666666,
              "#ed7953"
             ],
             [
              0.7777777777777778,
              "#fb9f3a"
             ],
             [
              0.8888888888888888,
              "#fdca26"
             ],
             [
              1,
              "#f0f921"
             ]
            ],
            "type": "contour"
           }
          ],
          "contourcarpet": [
           {
            "colorbar": {
             "outlinewidth": 0,
             "ticks": ""
            },
            "type": "contourcarpet"
           }
          ],
          "heatmap": [
           {
            "colorbar": {
             "outlinewidth": 0,
             "ticks": ""
            },
            "colorscale": [
             [
              0,
              "#0d0887"
             ],
             [
              0.1111111111111111,
              "#46039f"
             ],
             [
              0.2222222222222222,
              "#7201a8"
             ],
             [
              0.3333333333333333,
              "#9c179e"
             ],
             [
              0.4444444444444444,
              "#bd3786"
             ],
             [
              0.5555555555555556,
              "#d8576b"
             ],
             [
              0.6666666666666666,
              "#ed7953"
             ],
             [
              0.7777777777777778,
              "#fb9f3a"
             ],
             [
              0.8888888888888888,
              "#fdca26"
             ],
             [
              1,
              "#f0f921"
             ]
            ],
            "type": "heatmap"
           }
          ],
          "heatmapgl": [
           {
            "colorbar": {
             "outlinewidth": 0,
             "ticks": ""
            },
            "colorscale": [
             [
              0,
              "#0d0887"
             ],
             [
              0.1111111111111111,
              "#46039f"
             ],
             [
              0.2222222222222222,
              "#7201a8"
             ],
             [
              0.3333333333333333,
              "#9c179e"
             ],
             [
              0.4444444444444444,
              "#bd3786"
             ],
             [
              0.5555555555555556,
              "#d8576b"
             ],
             [
              0.6666666666666666,
              "#ed7953"
             ],
             [
              0.7777777777777778,
              "#fb9f3a"
             ],
             [
              0.8888888888888888,
              "#fdca26"
             ],
             [
              1,
              "#f0f921"
             ]
            ],
            "type": "heatmapgl"
           }
          ],
          "histogram": [
           {
            "marker": {
             "pattern": {
              "fillmode": "overlay",
              "size": 10,
              "solidity": 0.2
             }
            },
            "type": "histogram"
           }
          ],
          "histogram2d": [
           {
            "colorbar": {
             "outlinewidth": 0,
             "ticks": ""
            },
            "colorscale": [
             [
              0,
              "#0d0887"
             ],
             [
              0.1111111111111111,
              "#46039f"
             ],
             [
              0.2222222222222222,
              "#7201a8"
             ],
             [
              0.3333333333333333,
              "#9c179e"
             ],
             [
              0.4444444444444444,
              "#bd3786"
             ],
             [
              0.5555555555555556,
              "#d8576b"
             ],
             [
              0.6666666666666666,
              "#ed7953"
             ],
             [
              0.7777777777777778,
              "#fb9f3a"
             ],
             [
              0.8888888888888888,
              "#fdca26"
             ],
             [
              1,
              "#f0f921"
             ]
            ],
            "type": "histogram2d"
           }
          ],
          "histogram2dcontour": [
           {
            "colorbar": {
             "outlinewidth": 0,
             "ticks": ""
            },
            "colorscale": [
             [
              0,
              "#0d0887"
             ],
             [
              0.1111111111111111,
              "#46039f"
             ],
             [
              0.2222222222222222,
              "#7201a8"
             ],
             [
              0.3333333333333333,
              "#9c179e"
             ],
             [
              0.4444444444444444,
              "#bd3786"
             ],
             [
              0.5555555555555556,
              "#d8576b"
             ],
             [
              0.6666666666666666,
              "#ed7953"
             ],
             [
              0.7777777777777778,
              "#fb9f3a"
             ],
             [
              0.8888888888888888,
              "#fdca26"
             ],
             [
              1,
              "#f0f921"
             ]
            ],
            "type": "histogram2dcontour"
           }
          ],
          "mesh3d": [
           {
            "colorbar": {
             "outlinewidth": 0,
             "ticks": ""
            },
            "type": "mesh3d"
           }
          ],
          "parcoords": [
           {
            "line": {
             "colorbar": {
              "outlinewidth": 0,
              "ticks": ""
             }
            },
            "type": "parcoords"
           }
          ],
          "pie": [
           {
            "automargin": true,
            "type": "pie"
           }
          ],
          "scatter": [
           {
            "marker": {
             "colorbar": {
              "outlinewidth": 0,
              "ticks": ""
             }
            },
            "type": "scatter"
           }
          ],
          "scatter3d": [
           {
            "line": {
             "colorbar": {
              "outlinewidth": 0,
              "ticks": ""
             }
            },
            "marker": {
             "colorbar": {
              "outlinewidth": 0,
              "ticks": ""
             }
            },
            "type": "scatter3d"
           }
          ],
          "scattercarpet": [
           {
            "marker": {
             "colorbar": {
              "outlinewidth": 0,
              "ticks": ""
             }
            },
            "type": "scattercarpet"
           }
          ],
          "scattergeo": [
           {
            "marker": {
             "colorbar": {
              "outlinewidth": 0,
              "ticks": ""
             }
            },
            "type": "scattergeo"
           }
          ],
          "scattergl": [
           {
            "marker": {
             "colorbar": {
              "outlinewidth": 0,
              "ticks": ""
             }
            },
            "type": "scattergl"
           }
          ],
          "scattermapbox": [
           {
            "marker": {
             "colorbar": {
              "outlinewidth": 0,
              "ticks": ""
             }
            },
            "type": "scattermapbox"
           }
          ],
          "scatterpolar": [
           {
            "marker": {
             "colorbar": {
              "outlinewidth": 0,
              "ticks": ""
             }
            },
            "type": "scatterpolar"
           }
          ],
          "scatterpolargl": [
           {
            "marker": {
             "colorbar": {
              "outlinewidth": 0,
              "ticks": ""
             }
            },
            "type": "scatterpolargl"
           }
          ],
          "scatterternary": [
           {
            "marker": {
             "colorbar": {
              "outlinewidth": 0,
              "ticks": ""
             }
            },
            "type": "scatterternary"
           }
          ],
          "surface": [
           {
            "colorbar": {
             "outlinewidth": 0,
             "ticks": ""
            },
            "colorscale": [
             [
              0,
              "#0d0887"
             ],
             [
              0.1111111111111111,
              "#46039f"
             ],
             [
              0.2222222222222222,
              "#7201a8"
             ],
             [
              0.3333333333333333,
              "#9c179e"
             ],
             [
              0.4444444444444444,
              "#bd3786"
             ],
             [
              0.5555555555555556,
              "#d8576b"
             ],
             [
              0.6666666666666666,
              "#ed7953"
             ],
             [
              0.7777777777777778,
              "#fb9f3a"
             ],
             [
              0.8888888888888888,
              "#fdca26"
             ],
             [
              1,
              "#f0f921"
             ]
            ],
            "type": "surface"
           }
          ],
          "table": [
           {
            "cells": {
             "fill": {
              "color": "#EBF0F8"
             },
             "line": {
              "color": "white"
             }
            },
            "header": {
             "fill": {
              "color": "#C8D4E3"
             },
             "line": {
              "color": "white"
             }
            },
            "type": "table"
           }
          ]
         },
         "layout": {
          "annotationdefaults": {
           "arrowcolor": "#2a3f5f",
           "arrowhead": 0,
           "arrowwidth": 1
          },
          "autotypenumbers": "strict",
          "coloraxis": {
           "colorbar": {
            "outlinewidth": 0,
            "ticks": ""
           }
          },
          "colorscale": {
           "diverging": [
            [
             0,
             "#8e0152"
            ],
            [
             0.1,
             "#c51b7d"
            ],
            [
             0.2,
             "#de77ae"
            ],
            [
             0.3,
             "#f1b6da"
            ],
            [
             0.4,
             "#fde0ef"
            ],
            [
             0.5,
             "#f7f7f7"
            ],
            [
             0.6,
             "#e6f5d0"
            ],
            [
             0.7,
             "#b8e186"
            ],
            [
             0.8,
             "#7fbc41"
            ],
            [
             0.9,
             "#4d9221"
            ],
            [
             1,
             "#276419"
            ]
           ],
           "sequential": [
            [
             0,
             "#0d0887"
            ],
            [
             0.1111111111111111,
             "#46039f"
            ],
            [
             0.2222222222222222,
             "#7201a8"
            ],
            [
             0.3333333333333333,
             "#9c179e"
            ],
            [
             0.4444444444444444,
             "#bd3786"
            ],
            [
             0.5555555555555556,
             "#d8576b"
            ],
            [
             0.6666666666666666,
             "#ed7953"
            ],
            [
             0.7777777777777778,
             "#fb9f3a"
            ],
            [
             0.8888888888888888,
             "#fdca26"
            ],
            [
             1,
             "#f0f921"
            ]
           ],
           "sequentialminus": [
            [
             0,
             "#0d0887"
            ],
            [
             0.1111111111111111,
             "#46039f"
            ],
            [
             0.2222222222222222,
             "#7201a8"
            ],
            [
             0.3333333333333333,
             "#9c179e"
            ],
            [
             0.4444444444444444,
             "#bd3786"
            ],
            [
             0.5555555555555556,
             "#d8576b"
            ],
            [
             0.6666666666666666,
             "#ed7953"
            ],
            [
             0.7777777777777778,
             "#fb9f3a"
            ],
            [
             0.8888888888888888,
             "#fdca26"
            ],
            [
             1,
             "#f0f921"
            ]
           ]
          },
          "colorway": [
           "#636efa",
           "#EF553B",
           "#00cc96",
           "#ab63fa",
           "#FFA15A",
           "#19d3f3",
           "#FF6692",
           "#B6E880",
           "#FF97FF",
           "#FECB52"
          ],
          "font": {
           "color": "#2a3f5f"
          },
          "geo": {
           "bgcolor": "white",
           "lakecolor": "white",
           "landcolor": "#E5ECF6",
           "showlakes": true,
           "showland": true,
           "subunitcolor": "white"
          },
          "hoverlabel": {
           "align": "left"
          },
          "hovermode": "closest",
          "mapbox": {
           "style": "light"
          },
          "paper_bgcolor": "white",
          "plot_bgcolor": "#E5ECF6",
          "polar": {
           "angularaxis": {
            "gridcolor": "white",
            "linecolor": "white",
            "ticks": ""
           },
           "bgcolor": "#E5ECF6",
           "radialaxis": {
            "gridcolor": "white",
            "linecolor": "white",
            "ticks": ""
           }
          },
          "scene": {
           "xaxis": {
            "backgroundcolor": "#E5ECF6",
            "gridcolor": "white",
            "gridwidth": 2,
            "linecolor": "white",
            "showbackground": true,
            "ticks": "",
            "zerolinecolor": "white"
           },
           "yaxis": {
            "backgroundcolor": "#E5ECF6",
            "gridcolor": "white",
            "gridwidth": 2,
            "linecolor": "white",
            "showbackground": true,
            "ticks": "",
            "zerolinecolor": "white"
           },
           "zaxis": {
            "backgroundcolor": "#E5ECF6",
            "gridcolor": "white",
            "gridwidth": 2,
            "linecolor": "white",
            "showbackground": true,
            "ticks": "",
            "zerolinecolor": "white"
           }
          },
          "shapedefaults": {
           "line": {
            "color": "#2a3f5f"
           }
          },
          "ternary": {
           "aaxis": {
            "gridcolor": "white",
            "linecolor": "white",
            "ticks": ""
           },
           "baxis": {
            "gridcolor": "white",
            "linecolor": "white",
            "ticks": ""
           },
           "bgcolor": "#E5ECF6",
           "caxis": {
            "gridcolor": "white",
            "linecolor": "white",
            "ticks": ""
           }
          },
          "title": {
           "x": 0.05
          },
          "xaxis": {
           "automargin": true,
           "gridcolor": "white",
           "linecolor": "white",
           "ticks": "",
           "title": {
            "standoff": 15
           },
           "zerolinecolor": "white",
           "zerolinewidth": 2
          },
          "yaxis": {
           "automargin": true,
           "gridcolor": "white",
           "linecolor": "white",
           "ticks": "",
           "title": {
            "standoff": 15
           },
           "zerolinecolor": "white",
           "zerolinewidth": 2
          }
         }
        },
        "title": {
         "text": "<b>2020년 전국 시간대별 교통사고 사망률</b>"
        },
        "xaxis": {
         "title": {
          "text": "<b>연령대</b>"
         }
        },
        "yaxis": {
         "title": {
          "text": "<b>사고율 (%)</b>"
         }
        }
       }
      },
      "text/html": [
       "<div>                            <div id=\"112a1186-aaaf-4a59-96d0-84c43a6c5d61\" class=\"plotly-graph-div\" style=\"height:525px; width:100%;\"></div>            <script type=\"text/javascript\">                require([\"plotly\"], function(Plotly) {                    window.PLOTLYENV=window.PLOTLYENV || {};                                    if (document.getElementById(\"112a1186-aaaf-4a59-96d0-84c43a6c5d61\")) {                    Plotly.newPlot(                        \"112a1186-aaaf-4a59-96d0-84c43a6c5d61\",                        [{\"marker\":{\"color\":\"red\"},\"name\":\"2020\\ub144 \\uc0ac\\ub9dd\\ub960\",\"x\":[\"10\\ub300\",\"20\\ub300\",\"30\\ub300\",\"40\\ub300\",\"50\\ub300\",\"60\\uc138 \\uc774\\uc0c1\"],\"y\":[63.36248785228376,7.886086351855363,1.2959708100651879,0.8488949815200227,1.0926626448887762,1.1149409768275476],\"type\":\"scatter\"}],                        {\"template\":{\"data\":{\"bar\":[{\"error_x\":{\"color\":\"#2a3f5f\"},\"error_y\":{\"color\":\"#2a3f5f\"},\"marker\":{\"line\":{\"color\":\"#E5ECF6\",\"width\":0.5},\"pattern\":{\"fillmode\":\"overlay\",\"size\":10,\"solidity\":0.2}},\"type\":\"bar\"}],\"barpolar\":[{\"marker\":{\"line\":{\"color\":\"#E5ECF6\",\"width\":0.5},\"pattern\":{\"fillmode\":\"overlay\",\"size\":10,\"solidity\":0.2}},\"type\":\"barpolar\"}],\"carpet\":[{\"aaxis\":{\"endlinecolor\":\"#2a3f5f\",\"gridcolor\":\"white\",\"linecolor\":\"white\",\"minorgridcolor\":\"white\",\"startlinecolor\":\"#2a3f5f\"},\"baxis\":{\"endlinecolor\":\"#2a3f5f\",\"gridcolor\":\"white\",\"linecolor\":\"white\",\"minorgridcolor\":\"white\",\"startlinecolor\":\"#2a3f5f\"},\"type\":\"carpet\"}],\"choropleth\":[{\"colorbar\":{\"outlinewidth\":0,\"ticks\":\"\"},\"type\":\"choropleth\"}],\"contour\":[{\"colorbar\":{\"outlinewidth\":0,\"ticks\":\"\"},\"colorscale\":[[0.0,\"#0d0887\"],[0.1111111111111111,\"#46039f\"],[0.2222222222222222,\"#7201a8\"],[0.3333333333333333,\"#9c179e\"],[0.4444444444444444,\"#bd3786\"],[0.5555555555555556,\"#d8576b\"],[0.6666666666666666,\"#ed7953\"],[0.7777777777777778,\"#fb9f3a\"],[0.8888888888888888,\"#fdca26\"],[1.0,\"#f0f921\"]],\"type\":\"contour\"}],\"contourcarpet\":[{\"colorbar\":{\"outlinewidth\":0,\"ticks\":\"\"},\"type\":\"contourcarpet\"}],\"heatmap\":[{\"colorbar\":{\"outlinewidth\":0,\"ticks\":\"\"},\"colorscale\":[[0.0,\"#0d0887\"],[0.1111111111111111,\"#46039f\"],[0.2222222222222222,\"#7201a8\"],[0.3333333333333333,\"#9c179e\"],[0.4444444444444444,\"#bd3786\"],[0.5555555555555556,\"#d8576b\"],[0.6666666666666666,\"#ed7953\"],[0.7777777777777778,\"#fb9f3a\"],[0.8888888888888888,\"#fdca26\"],[1.0,\"#f0f921\"]],\"type\":\"heatmap\"}],\"heatmapgl\":[{\"colorbar\":{\"outlinewidth\":0,\"ticks\":\"\"},\"colorscale\":[[0.0,\"#0d0887\"],[0.1111111111111111,\"#46039f\"],[0.2222222222222222,\"#7201a8\"],[0.3333333333333333,\"#9c179e\"],[0.4444444444444444,\"#bd3786\"],[0.5555555555555556,\"#d8576b\"],[0.6666666666666666,\"#ed7953\"],[0.7777777777777778,\"#fb9f3a\"],[0.8888888888888888,\"#fdca26\"],[1.0,\"#f0f921\"]],\"type\":\"heatmapgl\"}],\"histogram\":[{\"marker\":{\"pattern\":{\"fillmode\":\"overlay\",\"size\":10,\"solidity\":0.2}},\"type\":\"histogram\"}],\"histogram2d\":[{\"colorbar\":{\"outlinewidth\":0,\"ticks\":\"\"},\"colorscale\":[[0.0,\"#0d0887\"],[0.1111111111111111,\"#46039f\"],[0.2222222222222222,\"#7201a8\"],[0.3333333333333333,\"#9c179e\"],[0.4444444444444444,\"#bd3786\"],[0.5555555555555556,\"#d8576b\"],[0.6666666666666666,\"#ed7953\"],[0.7777777777777778,\"#fb9f3a\"],[0.8888888888888888,\"#fdca26\"],[1.0,\"#f0f921\"]],\"type\":\"histogram2d\"}],\"histogram2dcontour\":[{\"colorbar\":{\"outlinewidth\":0,\"ticks\":\"\"},\"colorscale\":[[0.0,\"#0d0887\"],[0.1111111111111111,\"#46039f\"],[0.2222222222222222,\"#7201a8\"],[0.3333333333333333,\"#9c179e\"],[0.4444444444444444,\"#bd3786\"],[0.5555555555555556,\"#d8576b\"],[0.6666666666666666,\"#ed7953\"],[0.7777777777777778,\"#fb9f3a\"],[0.8888888888888888,\"#fdca26\"],[1.0,\"#f0f921\"]],\"type\":\"histogram2dcontour\"}],\"mesh3d\":[{\"colorbar\":{\"outlinewidth\":0,\"ticks\":\"\"},\"type\":\"mesh3d\"}],\"parcoords\":[{\"line\":{\"colorbar\":{\"outlinewidth\":0,\"ticks\":\"\"}},\"type\":\"parcoords\"}],\"pie\":[{\"automargin\":true,\"type\":\"pie\"}],\"scatter\":[{\"marker\":{\"colorbar\":{\"outlinewidth\":0,\"ticks\":\"\"}},\"type\":\"scatter\"}],\"scatter3d\":[{\"line\":{\"colorbar\":{\"outlinewidth\":0,\"ticks\":\"\"}},\"marker\":{\"colorbar\":{\"outlinewidth\":0,\"ticks\":\"\"}},\"type\":\"scatter3d\"}],\"scattercarpet\":[{\"marker\":{\"colorbar\":{\"outlinewidth\":0,\"ticks\":\"\"}},\"type\":\"scattercarpet\"}],\"scattergeo\":[{\"marker\":{\"colorbar\":{\"outlinewidth\":0,\"ticks\":\"\"}},\"type\":\"scattergeo\"}],\"scattergl\":[{\"marker\":{\"colorbar\":{\"outlinewidth\":0,\"ticks\":\"\"}},\"type\":\"scattergl\"}],\"scattermapbox\":[{\"marker\":{\"colorbar\":{\"outlinewidth\":0,\"ticks\":\"\"}},\"type\":\"scattermapbox\"}],\"scatterpolar\":[{\"marker\":{\"colorbar\":{\"outlinewidth\":0,\"ticks\":\"\"}},\"type\":\"scatterpolar\"}],\"scatterpolargl\":[{\"marker\":{\"colorbar\":{\"outlinewidth\":0,\"ticks\":\"\"}},\"type\":\"scatterpolargl\"}],\"scatterternary\":[{\"marker\":{\"colorbar\":{\"outlinewidth\":0,\"ticks\":\"\"}},\"type\":\"scatterternary\"}],\"surface\":[{\"colorbar\":{\"outlinewidth\":0,\"ticks\":\"\"},\"colorscale\":[[0.0,\"#0d0887\"],[0.1111111111111111,\"#46039f\"],[0.2222222222222222,\"#7201a8\"],[0.3333333333333333,\"#9c179e\"],[0.4444444444444444,\"#bd3786\"],[0.5555555555555556,\"#d8576b\"],[0.6666666666666666,\"#ed7953\"],[0.7777777777777778,\"#fb9f3a\"],[0.8888888888888888,\"#fdca26\"],[1.0,\"#f0f921\"]],\"type\":\"surface\"}],\"table\":[{\"cells\":{\"fill\":{\"color\":\"#EBF0F8\"},\"line\":{\"color\":\"white\"}},\"header\":{\"fill\":{\"color\":\"#C8D4E3\"},\"line\":{\"color\":\"white\"}},\"type\":\"table\"}]},\"layout\":{\"annotationdefaults\":{\"arrowcolor\":\"#2a3f5f\",\"arrowhead\":0,\"arrowwidth\":1},\"autotypenumbers\":\"strict\",\"coloraxis\":{\"colorbar\":{\"outlinewidth\":0,\"ticks\":\"\"}},\"colorscale\":{\"diverging\":[[0,\"#8e0152\"],[0.1,\"#c51b7d\"],[0.2,\"#de77ae\"],[0.3,\"#f1b6da\"],[0.4,\"#fde0ef\"],[0.5,\"#f7f7f7\"],[0.6,\"#e6f5d0\"],[0.7,\"#b8e186\"],[0.8,\"#7fbc41\"],[0.9,\"#4d9221\"],[1,\"#276419\"]],\"sequential\":[[0.0,\"#0d0887\"],[0.1111111111111111,\"#46039f\"],[0.2222222222222222,\"#7201a8\"],[0.3333333333333333,\"#9c179e\"],[0.4444444444444444,\"#bd3786\"],[0.5555555555555556,\"#d8576b\"],[0.6666666666666666,\"#ed7953\"],[0.7777777777777778,\"#fb9f3a\"],[0.8888888888888888,\"#fdca26\"],[1.0,\"#f0f921\"]],\"sequentialminus\":[[0.0,\"#0d0887\"],[0.1111111111111111,\"#46039f\"],[0.2222222222222222,\"#7201a8\"],[0.3333333333333333,\"#9c179e\"],[0.4444444444444444,\"#bd3786\"],[0.5555555555555556,\"#d8576b\"],[0.6666666666666666,\"#ed7953\"],[0.7777777777777778,\"#fb9f3a\"],[0.8888888888888888,\"#fdca26\"],[1.0,\"#f0f921\"]]},\"colorway\":[\"#636efa\",\"#EF553B\",\"#00cc96\",\"#ab63fa\",\"#FFA15A\",\"#19d3f3\",\"#FF6692\",\"#B6E880\",\"#FF97FF\",\"#FECB52\"],\"font\":{\"color\":\"#2a3f5f\"},\"geo\":{\"bgcolor\":\"white\",\"lakecolor\":\"white\",\"landcolor\":\"#E5ECF6\",\"showlakes\":true,\"showland\":true,\"subunitcolor\":\"white\"},\"hoverlabel\":{\"align\":\"left\"},\"hovermode\":\"closest\",\"mapbox\":{\"style\":\"light\"},\"paper_bgcolor\":\"white\",\"plot_bgcolor\":\"#E5ECF6\",\"polar\":{\"angularaxis\":{\"gridcolor\":\"white\",\"linecolor\":\"white\",\"ticks\":\"\"},\"bgcolor\":\"#E5ECF6\",\"radialaxis\":{\"gridcolor\":\"white\",\"linecolor\":\"white\",\"ticks\":\"\"}},\"scene\":{\"xaxis\":{\"backgroundcolor\":\"#E5ECF6\",\"gridcolor\":\"white\",\"gridwidth\":2,\"linecolor\":\"white\",\"showbackground\":true,\"ticks\":\"\",\"zerolinecolor\":\"white\"},\"yaxis\":{\"backgroundcolor\":\"#E5ECF6\",\"gridcolor\":\"white\",\"gridwidth\":2,\"linecolor\":\"white\",\"showbackground\":true,\"ticks\":\"\",\"zerolinecolor\":\"white\"},\"zaxis\":{\"backgroundcolor\":\"#E5ECF6\",\"gridcolor\":\"white\",\"gridwidth\":2,\"linecolor\":\"white\",\"showbackground\":true,\"ticks\":\"\",\"zerolinecolor\":\"white\"}},\"shapedefaults\":{\"line\":{\"color\":\"#2a3f5f\"}},\"ternary\":{\"aaxis\":{\"gridcolor\":\"white\",\"linecolor\":\"white\",\"ticks\":\"\"},\"baxis\":{\"gridcolor\":\"white\",\"linecolor\":\"white\",\"ticks\":\"\"},\"bgcolor\":\"#E5ECF6\",\"caxis\":{\"gridcolor\":\"white\",\"linecolor\":\"white\",\"ticks\":\"\"}},\"title\":{\"x\":0.05},\"xaxis\":{\"automargin\":true,\"gridcolor\":\"white\",\"linecolor\":\"white\",\"ticks\":\"\",\"title\":{\"standoff\":15},\"zerolinecolor\":\"white\",\"zerolinewidth\":2},\"yaxis\":{\"automargin\":true,\"gridcolor\":\"white\",\"linecolor\":\"white\",\"ticks\":\"\",\"title\":{\"standoff\":15},\"zerolinecolor\":\"white\",\"zerolinewidth\":2}}},\"title\":{\"text\":\"<b>2020\\ub144 \\uc804\\uad6d \\uc2dc\\uac04\\ub300\\ubcc4 \\uad50\\ud1b5\\uc0ac\\uace0 \\uc0ac\\ub9dd\\ub960</b>\"},\"xaxis\":{\"title\":{\"text\":\"<b>\\uc5f0\\ub839\\ub300</b>\"}},\"yaxis\":{\"title\":{\"text\":\"<b>\\uc0ac\\uace0\\uc728 (%)</b>\"}}},                        {\"responsive\": true}                    ).then(function(){\n",
       "                            \n",
       "var gd = document.getElementById('112a1186-aaaf-4a59-96d0-84c43a6c5d61');\n",
       "var x = new MutationObserver(function (mutations, observer) {{\n",
       "        var display = window.getComputedStyle(gd).display;\n",
       "        if (!display || display === 'none') {{\n",
       "            console.log([gd, 'removed!']);\n",
       "            Plotly.purge(gd);\n",
       "            observer.disconnect();\n",
       "        }}\n",
       "}});\n",
       "\n",
       "// Listen for the removal of the full notebook cells\n",
       "var notebookContainer = gd.closest('#notebook-container');\n",
       "if (notebookContainer) {{\n",
       "    x.observe(notebookContainer, {childList: true});\n",
       "}}\n",
       "\n",
       "// Listen for the clearing of the current output cell\n",
       "var outputEl = gd.closest('.output');\n",
       "if (outputEl) {{\n",
       "    x.observe(outputEl, {childList: true});\n",
       "}}\n",
       "\n",
       "                        })                };                });            </script>        </div>"
      ]
     },
     "metadata": {},
     "output_type": "display_data"
    }
   ],
   "source": [
    "import plotly.graph_objs as go\n",
    "\n",
    "fig = go.Figure(data=[\n",
    "    go.Scatter(x=label, y=driver2020_seoul['사고율'], name='2020년 사망률', marker_color='red')\n",
    "])\n",
    "fig.update_layout(title='<b>2020년 전국 시간대별 교통사고 사망률</b>')\n",
    "fig.update_xaxes(title_text='<b>연령대</b>')\n",
    "fig.update_yaxes(title_text='<b>사고율 (%)</b>')\n",
    "fig.show()"
   ]
  },
  {
   "cell_type": "code",
   "execution_count": 19,
   "id": "efd42d15",
   "metadata": {},
   "outputs": [
    {
     "name": "stdout",
     "output_type": "stream",
     "text": [
      "10대:  63.36 %\n",
      "20대:  7.89 %\n",
      "30대:  1.3 %\n",
      "40대:  0.85 %\n",
      "50대:  1.09 %\n",
      "60세 이상:  1.11 %\n"
     ]
    }
   ],
   "source": [
    "print('10대: ', round(driver2020_seoul['사고율'][0], 2),'%')\n",
    "print('20대: ', round(driver2020_seoul['사고율'][1], 2),'%')\n",
    "print('30대: ', round(driver2020_seoul['사고율'][2], 2),'%')\n",
    "print('40대: ', round(driver2020_seoul['사고율'][3], 2),'%')\n",
    "print('50대: ', round(driver2020_seoul['사고율'][4], 2),'%')\n",
    "print('60세 이상: ', round(driver2020_seoul['사고율'][5], 2),'%')"
   ]
  },
  {
   "cell_type": "markdown",
   "id": "a7158d66",
   "metadata": {},
   "source": [
    "### 결론\n",
    "- 두 그래프의 결과로, 10대의 차량 사고율이 다른 연령대들에 비해 압도적으로 높았고, 사고율이 20대부터 40대까지 점진적으로 감소하다가 50대부터 다시 상승하는 형태를 보임.\n",
    "\n",
    "- 단순히 운전면허등록수로 사고율을 나타냈을 때는, 10대를 제외하곤 각 연령대들은 사고율의 큰 차이가 없었다. 하지만, 자동차소유수로 사고율을 표현했을 때는, 20대의 사고율이 다른 연10대를 제외엔 다른 연령대들에 비해 사고율이 최소 6배 이상 높았다."
   ]
  },
  {
   "cell_type": "markdown",
   "id": "50f82f13",
   "metadata": {},
   "source": [
    "### 왜 이런 결과가?\n",
    "- 20대 운전자들이 운전면허를 취득할 때 실내 기능시험 위주로 교육을 받아 실제 도로상황에 익숙하지 않아 이같은 결과가 나온 것으로 분석. 특히 자동차 면허 취득 교육시 야간 주행 교육이 충분히 이뤄지지 않는 것도 사고율을 높이는 요인.\n",
    "\n",
    "- 20대 운전자가 면허를 따는 즉시 차량을 구매하지 못해 운전기량을 유지하지 못하는 것도 사고율을 늘리는 원인.\n",
    "\n",
    "- 관련기사 링크: https://m.khan.co.kr/economy/economy-general/article/201510121507001#c2b\n",
    "\n",
    "- 10대들은 왜 이렇게 사고율이 높을까?"
   ]
  },
  {
   "cell_type": "code",
   "execution_count": null,
   "id": "457029b6",
   "metadata": {},
   "outputs": [],
   "source": []
  }
 ],
 "metadata": {
  "kernelspec": {
   "display_name": "Python 3 (ipykernel)",
   "language": "python",
   "name": "python3"
  },
  "language_info": {
   "codemirror_mode": {
    "name": "ipython",
    "version": 3
   },
   "file_extension": ".py",
   "mimetype": "text/x-python",
   "name": "python",
   "nbconvert_exporter": "python",
   "pygments_lexer": "ipython3",
   "version": "3.9.12"
  }
 },
 "nbformat": 4,
 "nbformat_minor": 5
}
