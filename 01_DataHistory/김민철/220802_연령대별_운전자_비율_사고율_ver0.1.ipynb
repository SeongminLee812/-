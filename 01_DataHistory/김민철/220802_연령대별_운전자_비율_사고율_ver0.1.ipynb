{
 "cells": [
  {
   "cell_type": "code",
   "execution_count": 45,
   "metadata": {},
   "outputs": [],
   "source": [
    "import pandas as pd\n",
    "import numpy as np\n",
    "\n",
    "import matplotlib.pyplot as plt\n",
    "%matplotlib inline\n",
    "\n",
    "import seaborn as sns\n",
    "\n",
    "import warnings\n",
    "warnings.filterwarnings('ignore')"
   ]
  },
  {
   "cell_type": "markdown",
   "metadata": {},
   "source": [
    "## 연령대별 운전면허 소지 비율"
   ]
  },
  {
   "cell_type": "code",
   "execution_count": 46,
   "metadata": {},
   "outputs": [],
   "source": [
    "pop2020 = pd.read_excel('C:/Users/alscj/python/Data Science/project/data/pop2020.xlsx')"
   ]
  },
  {
   "cell_type": "code",
   "execution_count": 85,
   "metadata": {},
   "outputs": [],
   "source": [
    "pop2020['pop2'] = pop2020['pop']/10000\n",
    "pop2020['license2'] = pop2020['license']/10000"
   ]
  },
  {
   "cell_type": "code",
   "execution_count": 84,
   "metadata": {},
   "outputs": [],
   "source": [
    "pop2020['면허소지율'] = pop2020['license']/(pop2020['pop'] + pop2020['license'])*100"
   ]
  },
  {
   "cell_type": "code",
   "execution_count": 51,
   "metadata": {},
   "outputs": [],
   "source": [
    "plt.rcParams['font.family'] = 'Malgun Gothic'"
   ]
  },
  {
   "cell_type": "code",
   "execution_count": 140,
   "metadata": {
    "scrolled": false
   },
   "outputs": [
    {
     "data": {
      "text/plain": [
       "<Figure size 2880x864 with 0 Axes>"
      ]
     },
     "metadata": {},
     "output_type": "display_data"
    },
    {
     "data": {
      "image/png": "[encoded data removed]",
      "text/plain": [
       "<Figure size 432x288 with 1 Axes>"
      ]
     },
     "metadata": {
      "needs_background": "light"
     },
     "output_type": "display_data"
    }
   ],
   "source": [
    "label = ['20대', '30대', '40대', '50대', '60대', '70대 이상']\n",
    "index = np.arange(len(label))\n",
    "\n",
    "plt.figure(figsize=(40, 12))\n",
    "pop2020.plot(kind='bar', y=['license2', 'pop2'], label=('면허소지자','총 인구'), \n",
    "             stacked=True, color=['pink', 'lightskyblue'])\n",
    "plt.title('2020년 연령대별 운전면허 소지 비율')\n",
    "plt.xlabel('연령대')\n",
    "plt.ylabel('인구 (만명)')\n",
    "plt.xticks(index, label, rotation=0)\n",
    "plt.show()"
   ]
  },
  {
   "cell_type": "code",
   "execution_count": 79,
   "metadata": {},
   "outputs": [
    {
     "name": "stdout",
     "output_type": "stream",
     "text": [
      "20대 면허 소지율:  42.52 %\n",
      "30대 면허 소지율:  48.94 %\n",
      "40대 면허 소지율:  48.92 %\n",
      "50대 면허 소지율:  46.95 %\n",
      "60대 면허 소지율:  42.55 %\n",
      "70대 이상 면허 소지율:  22.77 %\n"
     ]
    }
   ],
   "source": [
    "print('20대 면허 소지율: ', round(pop2020['면허소지율'][0], 2),'%')\n",
    "print('30대 면허 소지율: ', round(pop2020['면허소지율'][1], 2),'%')\n",
    "print('40대 면허 소지율: ', round(pop2020['면허소지율'][2], 2),'%')\n",
    "print('50대 면허 소지율: ', round(pop2020['면허소지율'][3], 2),'%')\n",
    "print('60대 면허 소지율: ', round(pop2020['면허소지율'][4], 2),'%')\n",
    "print('70대 이상 면허 소지율: ', round(pop2020['면허소지율'][5], 2),'%')"
   ]
  },
  {
   "cell_type": "code",
   "execution_count": 72,
   "metadata": {},
   "outputs": [],
   "source": [
    "pop2021 = pd.read_excel('C:/Users/alscj/python/Data Science/project/data/pop2021.xlsx')"
   ]
  },
  {
   "cell_type": "code",
   "execution_count": 82,
   "metadata": {},
   "outputs": [],
   "source": [
    "pop2021['pop2'] = pop2021['pop']/10000\n",
    "pop2021['license2'] = pop2021['license']/10000"
   ]
  },
  {
   "cell_type": "code",
   "execution_count": 81,
   "metadata": {},
   "outputs": [],
   "source": [
    "pop2021['면허소지율'] = pop2021['license']/(pop2021['pop'] + pop2021['license'])*100"
   ]
  },
  {
   "cell_type": "code",
   "execution_count": 139,
   "metadata": {
    "scrolled": true
   },
   "outputs": [
    {
     "data": {
      "text/plain": [
       "<Figure size 2880x864 with 0 Axes>"
      ]
     },
     "metadata": {},
     "output_type": "display_data"
    },
    {
     "data": {
      "image/png": "[encoded data removed]",
      "text/plain": [
       "<Figure size 432x288 with 1 Axes>"
      ]
     },
     "metadata": {
      "needs_background": "light"
     },
     "output_type": "display_data"
    }
   ],
   "source": [
    "label = ['20대', '30대', '40대', '50대', '60대', '70대 이상']\n",
    "index = np.arange(len(label))\n",
    "\n",
    "plt.figure(figsize=(40, 12))\n",
    "pop2021.plot(kind='bar', y=['license2', 'pop2'], label=('면허소지자','총 인구'), \n",
    "             stacked=True, color=['pink', 'lightskyblue'])\n",
    "plt.title('2021년 연령대별 운전면허 소지 비율')\n",
    "plt.xlabel('연령대')\n",
    "plt.ylabel('인구 (만명)')\n",
    "plt.xticks(index, label, rotation=0, fontsize=12)\n",
    "plt.show()"
   ]
  },
  {
   "cell_type": "code",
   "execution_count": 80,
   "metadata": {},
   "outputs": [
    {
     "name": "stdout",
     "output_type": "stream",
     "text": [
      "20대 면허 소지율:  42.31 %\n",
      "30대 면허 소지율:  48.06 %\n",
      "40대 면허 소지율:  48.14 %\n",
      "50대 면허 소지율:  46.76 %\n",
      "60대 면허 소지율:  43.27 %\n",
      "70대 이상 면허 소지율:  18.64 %\n"
     ]
    }
   ],
   "source": [
    "print('20대 면허 소지율: ', round(pop2021['면허소지율'][0], 2),'%')\n",
    "print('30대 면허 소지율: ', round(pop2021['면허소지율'][1], 2),'%')\n",
    "print('40대 면허 소지율: ', round(pop2021['면허소지율'][2], 2),'%')\n",
    "print('50대 면허 소지율: ', round(pop2021['면허소지율'][3], 2),'%')\n",
    "print('60대 면허 소지율: ', round(pop2021['면허소지율'][4], 2),'%')\n",
    "print('70대 이상 면허 소지율: ', round(pop2021['면허소지율'][5], 2),'%')"
   ]
  },
  {
   "cell_type": "markdown",
   "metadata": {},
   "source": [
    "## 연령대별 사고율"
   ]
  },
  {
   "cell_type": "code",
   "execution_count": 122,
   "metadata": {},
   "outputs": [],
   "source": [
    "driver2020 = pd.read_excel('C:/Users/alscj/python/Data Science/project/data/driver2020.xlsx')"
   ]
  },
  {
   "cell_type": "code",
   "execution_count": 123,
   "metadata": {},
   "outputs": [],
   "source": [
    "driver2020['사고율'] = driver2020['accident']/(driver2020['license']+driver2020['accident'])*100"
   ]
  },
  {
   "cell_type": "code",
   "execution_count": 124,
   "metadata": {},
   "outputs": [
    {
     "data": {
      "text/html": [
       "<div>\n",
       "<style scoped>\n",
       "    .dataframe tbody tr th:only-of-type {\n",
       "        vertical-align: middle;\n",
       "    }\n",
       "\n",
       "    .dataframe tbody tr th {\n",
       "        vertical-align: top;\n",
       "    }\n",
       "\n",
       "    .dataframe thead th {\n",
       "        text-align: right;\n",
       "    }\n",
       "</style>\n",
       "<table border=\"1\" class=\"dataframe\">\n",
       "  <thead>\n",
       "    <tr style=\"text-align: right;\">\n",
       "      <th></th>\n",
       "      <th>age</th>\n",
       "      <th>license</th>\n",
       "      <th>accident</th>\n",
       "      <th>사고율</th>\n",
       "    </tr>\n",
       "  </thead>\n",
       "  <tbody>\n",
       "    <tr>\n",
       "      <th>0</th>\n",
       "      <td>0~20</td>\n",
       "      <td>591687</td>\n",
       "      <td>7099</td>\n",
       "      <td>1.185565</td>\n",
       "    </tr>\n",
       "    <tr>\n",
       "      <th>1</th>\n",
       "      <td>21~30</td>\n",
       "      <td>5158851</td>\n",
       "      <td>29775</td>\n",
       "      <td>0.573851</td>\n",
       "    </tr>\n",
       "    <tr>\n",
       "      <th>2</th>\n",
       "      <td>31~40</td>\n",
       "      <td>6558580</td>\n",
       "      <td>31606</td>\n",
       "      <td>0.479592</td>\n",
       "    </tr>\n",
       "    <tr>\n",
       "      <th>3</th>\n",
       "      <td>41~50</td>\n",
       "      <td>4065476</td>\n",
       "      <td>38036</td>\n",
       "      <td>0.926913</td>\n",
       "    </tr>\n",
       "    <tr>\n",
       "      <th>4</th>\n",
       "      <td>51~60</td>\n",
       "      <td>7270780</td>\n",
       "      <td>50421</td>\n",
       "      <td>0.688698</td>\n",
       "    </tr>\n",
       "    <tr>\n",
       "      <th>5</th>\n",
       "      <td>61~</td>\n",
       "      <td>5952890</td>\n",
       "      <td>49247</td>\n",
       "      <td>0.820491</td>\n",
       "    </tr>\n",
       "  </tbody>\n",
       "</table>\n",
       "</div>"
      ],
      "text/plain": [
       "     age  license  accident       사고율\n",
       "0   0~20   591687      7099  1.185565\n",
       "1  21~30  5158851     29775  0.573851\n",
       "2  31~40  6558580     31606  0.479592\n",
       "3  41~50  4065476     38036  0.926913\n",
       "4  51~60  7270780     50421  0.688698\n",
       "5    61~  5952890     49247  0.820491"
      ]
     },
     "execution_count": 124,
     "metadata": {},
     "output_type": "execute_result"
    }
   ],
   "source": [
    "driver2020"
   ]
  },
  {
   "cell_type": "code",
   "execution_count": 127,
   "metadata": {},
   "outputs": [
    {
     "data": {
      "image/png": "[encoded data removed]",
      "text/plain": [
       "<Figure size 864x576 with 1 Axes>"
      ]
     },
     "metadata": {
      "needs_background": "light"
     },
     "output_type": "display_data"
    }
   ],
   "source": [
    "label = ['20대 이하', '20대', '30대', '40대', '50대', '60세 이상']\n",
    "index = np.arange(len(label))\n",
    "\n",
    "plt.figure(figsize=(12, 8))\n",
    "plt.bar(index, driver2020['사고율'], color='lightskyblue')\n",
    "plt.title('2020년 연령대별 사고율')\n",
    "plt.xlabel('연령대')\n",
    "plt.ylabel('사고율 (%)')\n",
    "plt.xticks(index, label, rotation=0, fontsize=12)\n",
    "plt.show()"
   ]
  },
  {
   "cell_type": "code",
   "execution_count": 126,
   "metadata": {},
   "outputs": [
    {
     "name": "stdout",
     "output_type": "stream",
     "text": [
      "20대 이하 사고율:  1.19 %\n",
      "20대:  0.57 %\n",
      "30대:  0.48 %\n",
      "40대:  0.93 %\n",
      "50대:  0.69 %\n",
      "60세 이상:  0.82 %\n"
     ]
    }
   ],
   "source": [
    "print('20대 이하 사고율: ', round(driver2020['사고율'][0], 2),'%')\n",
    "print('20대: ', round(driver2020['사고율'][1], 2),'%')\n",
    "print('30대: ', round(driver2020['사고율'][2], 2),'%')\n",
    "print('40대: ', round(driver2020['사고율'][3], 2),'%')\n",
    "print('50대: ', round(driver2020['사고율'][4], 2),'%')\n",
    "print('60세 이상: ', round(driver2020['사고율'][5], 2),'%')"
   ]
  },
  {
   "cell_type": "code",
   "execution_count": 128,
   "metadata": {},
   "outputs": [],
   "source": [
    "driver2021 = pd.read_excel('C:/Users/alscj/python/Data Science/project/data/driver2021.xlsx')"
   ]
  },
  {
   "cell_type": "code",
   "execution_count": 129,
   "metadata": {},
   "outputs": [],
   "source": [
    "driver2021['사고율'] = driver2021['accident']/(driver2021['license']+driver2021['accident'])*100"
   ]
  },
  {
   "cell_type": "code",
   "execution_count": 130,
   "metadata": {},
   "outputs": [
    {
     "data": {
      "image/png": "[encoded data removed]",
      "text/plain": [
       "<Figure size 864x576 with 1 Axes>"
      ]
     },
     "metadata": {
      "needs_background": "light"
     },
     "output_type": "display_data"
    }
   ],
   "source": [
    "label = ['20대 이하', '20대', '30대', '40대', '50대', '60세 이상']\n",
    "index = np.arange(len(label))\n",
    "\n",
    "plt.figure(figsize=(12, 8))\n",
    "plt.bar(index, driver2021['사고율'], color='lightskyblue')\n",
    "plt.title('2021년 연령대별 사고율')\n",
    "plt.xlabel('연령대')\n",
    "plt.ylabel('사고율 (%)')\n",
    "plt.xticks(index, label, rotation=0, fontsize=12)\n",
    "plt.show()"
   ]
  },
  {
   "cell_type": "code",
   "execution_count": 131,
   "metadata": {},
   "outputs": [
    {
     "name": "stdout",
     "output_type": "stream",
     "text": [
      "20대 이하 사고율:  1.19 %\n",
      "20대:  0.55 %\n",
      "30대:  0.86 %\n",
      "40대:  0.48 %\n",
      "50대:  1.33 %\n",
      "60세 이상:  0.77 %\n"
     ]
    }
   ],
   "source": [
    "print('20대 이하 사고율: ', round(driver2021['사고율'][0], 2),'%')\n",
    "print('20대: ', round(driver2021['사고율'][1], 2),'%')\n",
    "print('30대: ', round(driver2021['사고율'][2], 2),'%')\n",
    "print('40대: ', round(driver2021['사고율'][3], 2),'%')\n",
    "print('50대: ', round(driver2021['사고율'][4], 2),'%')\n",
    "print('60세 이상: ', round(driver2021['사고율'][5], 2),'%')"
   ]
  }
 ],
 "metadata": {
  "kernelspec": {
   "display_name": "Python 3",
   "language": "python",
   "name": "python3"
  },
  "language_info": {
   "codemirror_mode": {
    "name": "ipython",
    "version": 3
   },
   "file_extension": ".py",
   "mimetype": "text/x-python",
   "name": "python",
   "nbconvert_exporter": "python",
   "pygments_lexer": "ipython3",
   "version": "3.8.5"
  }
 },
 "nbformat": 4,
 "nbformat_minor": 4
}
